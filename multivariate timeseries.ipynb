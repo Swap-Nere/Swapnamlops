{
 "cells": [
  {
   "cell_type": "code",
   "execution_count": 2,
   "id": "6ada82fc",
   "metadata": {},
   "outputs": [],
   "source": [
    "import numpy as np\n",
    "import pandas as pd"
   ]
  },
  {
   "cell_type": "code",
   "execution_count": 2,
   "id": "bcbb1b54",
   "metadata": {},
   "outputs": [],
   "source": [
    "import matplotlib.pyplot as plt\n",
    "import seaborn as sns\n",
    "import warnings"
   ]
  },
  {
   "cell_type": "code",
   "execution_count": 3,
   "id": "65937f1e",
   "metadata": {},
   "outputs": [],
   "source": [
    "import json\n",
    "\n",
    "import io\n",
    "import numpy as np\n",
    "import seaborn as sns\n",
    "from sklearn.impute import SimpleImputer\n",
    "\n",
    "\n",
    "import pandas as pd\n",
    "from matplotlib import pyplot\n",
    "from statsmodels.tsa.seasonal import seasonal_decompose"
   ]
  },
  {
   "cell_type": "code",
   "execution_count": 4,
   "id": "7ca8e480",
   "metadata": {},
   "outputs": [],
   "source": [
    "df=pd.read_html(\"sp500-vs-dow-jones-vs-go.xls\")\n",
    "\n"
   ]
  },
  {
   "cell_type": "code",
   "execution_count": 5,
   "id": "867ef0b1",
   "metadata": {},
   "outputs": [
    {
     "data": {
      "text/plain": [
       "[                  DateTime  S&P 500  Dow Jones    Gold  Silver\n",
       " 0      1896-07-31 00:00:10      NaN      32.02     NaN     NaN\n",
       " 1      1896-08-01 00:00:10     3.81        NaN     NaN     NaN\n",
       " 2      1896-08-31 00:00:10      NaN      31.97     NaN     NaN\n",
       " 3      1896-09-01 00:00:10     4.01        NaN     NaN     NaN\n",
       " 4      1896-09-30 00:00:10      NaN      36.05     NaN     NaN\n",
       " ...                    ...      ...        ...     ...     ...\n",
       " 15877  2022-05-03 00:00:00  4175.48   33128.79  1857.9  22.630\n",
       " 15878  2022-05-04 00:00:00  4300.17   34061.06  1868.7  22.595\n",
       " 15879  2022-05-05 00:00:00  4146.87   32997.97  1895.2  22.915\n",
       " 15880  2022-05-06 00:00:00  4123.34   32899.37     NaN     NaN\n",
       " 15881  2022-05-09 00:00:00  3991.24        NaN     NaN     NaN\n",
       " \n",
       " [15882 rows x 5 columns]]"
      ]
     },
     "execution_count": 5,
     "metadata": {},
     "output_type": "execute_result"
    }
   ],
   "source": [
    "df"
   ]
  },
  {
   "cell_type": "code",
   "execution_count": 41,
   "id": "034c4c55",
   "metadata": {},
   "outputs": [],
   "source": [
    "df_main=df[0]"
   ]
  },
  {
   "cell_type": "code",
   "execution_count": 42,
   "id": "be036fe9",
   "metadata": {},
   "outputs": [
    {
     "data": {
      "text/plain": [
       "Index(['DateTime', 'S&P 500', 'Dow Jones', 'Gold', 'Silver'], dtype='object')"
      ]
     },
     "execution_count": 42,
     "metadata": {},
     "output_type": "execute_result"
    }
   ],
   "source": [
    "df_main.columns"
   ]
  },
  {
   "cell_type": "code",
   "execution_count": 43,
   "id": "9dea4370",
   "metadata": {},
   "outputs": [
    {
     "name": "stdout",
     "output_type": "stream",
     "text": [
      "<class 'pandas.core.frame.DataFrame'>\n",
      "RangeIndex: 15882 entries, 0 to 15881\n",
      "Data columns (total 5 columns):\n",
      " #   Column     Non-Null Count  Dtype  \n",
      "---  ------     --------------  -----  \n",
      " 0   DateTime   15882 non-null  object \n",
      " 1   S&P 500    3032 non-null   float64\n",
      " 2   Dow Jones  3028 non-null   float64\n",
      " 3   Gold       13751 non-null  float64\n",
      " 4   Silver     14382 non-null  float64\n",
      "dtypes: float64(4), object(1)\n",
      "memory usage: 620.5+ KB\n"
     ]
    }
   ],
   "source": [
    "df_main.info()"
   ]
  },
  {
   "cell_type": "code",
   "execution_count": 44,
   "id": "3f2f5fc6",
   "metadata": {},
   "outputs": [],
   "source": [
    "dft=df_main.fillna(0)"
   ]
  },
  {
   "cell_type": "code",
   "execution_count": 45,
   "id": "726666da",
   "metadata": {},
   "outputs": [
    {
     "data": {
      "text/html": [
       "<div>\n",
       "<style scoped>\n",
       "    .dataframe tbody tr th:only-of-type {\n",
       "        vertical-align: middle;\n",
       "    }\n",
       "\n",
       "    .dataframe tbody tr th {\n",
       "        vertical-align: top;\n",
       "    }\n",
       "\n",
       "    .dataframe thead th {\n",
       "        text-align: right;\n",
       "    }\n",
       "</style>\n",
       "<table border=\"1\" class=\"dataframe\">\n",
       "  <thead>\n",
       "    <tr style=\"text-align: right;\">\n",
       "      <th></th>\n",
       "      <th>DateTime</th>\n",
       "      <th>S&amp;P 500</th>\n",
       "      <th>Dow Jones</th>\n",
       "      <th>Gold</th>\n",
       "      <th>Silver</th>\n",
       "    </tr>\n",
       "  </thead>\n",
       "  <tbody>\n",
       "    <tr>\n",
       "      <th>0</th>\n",
       "      <td>1896-07-31 00:00:10</td>\n",
       "      <td>0.00</td>\n",
       "      <td>32.02</td>\n",
       "      <td>0.0</td>\n",
       "      <td>0.000</td>\n",
       "    </tr>\n",
       "    <tr>\n",
       "      <th>1</th>\n",
       "      <td>1896-08-01 00:00:10</td>\n",
       "      <td>3.81</td>\n",
       "      <td>0.00</td>\n",
       "      <td>0.0</td>\n",
       "      <td>0.000</td>\n",
       "    </tr>\n",
       "    <tr>\n",
       "      <th>2</th>\n",
       "      <td>1896-08-31 00:00:10</td>\n",
       "      <td>0.00</td>\n",
       "      <td>31.97</td>\n",
       "      <td>0.0</td>\n",
       "      <td>0.000</td>\n",
       "    </tr>\n",
       "    <tr>\n",
       "      <th>3</th>\n",
       "      <td>1896-09-01 00:00:10</td>\n",
       "      <td>4.01</td>\n",
       "      <td>0.00</td>\n",
       "      <td>0.0</td>\n",
       "      <td>0.000</td>\n",
       "    </tr>\n",
       "    <tr>\n",
       "      <th>4</th>\n",
       "      <td>1896-09-30 00:00:10</td>\n",
       "      <td>0.00</td>\n",
       "      <td>36.05</td>\n",
       "      <td>0.0</td>\n",
       "      <td>0.000</td>\n",
       "    </tr>\n",
       "    <tr>\n",
       "      <th>...</th>\n",
       "      <td>...</td>\n",
       "      <td>...</td>\n",
       "      <td>...</td>\n",
       "      <td>...</td>\n",
       "      <td>...</td>\n",
       "    </tr>\n",
       "    <tr>\n",
       "      <th>15877</th>\n",
       "      <td>2022-05-03 00:00:00</td>\n",
       "      <td>4175.48</td>\n",
       "      <td>33128.79</td>\n",
       "      <td>1857.9</td>\n",
       "      <td>22.630</td>\n",
       "    </tr>\n",
       "    <tr>\n",
       "      <th>15878</th>\n",
       "      <td>2022-05-04 00:00:00</td>\n",
       "      <td>4300.17</td>\n",
       "      <td>34061.06</td>\n",
       "      <td>1868.7</td>\n",
       "      <td>22.595</td>\n",
       "    </tr>\n",
       "    <tr>\n",
       "      <th>15879</th>\n",
       "      <td>2022-05-05 00:00:00</td>\n",
       "      <td>4146.87</td>\n",
       "      <td>32997.97</td>\n",
       "      <td>1895.2</td>\n",
       "      <td>22.915</td>\n",
       "    </tr>\n",
       "    <tr>\n",
       "      <th>15880</th>\n",
       "      <td>2022-05-06 00:00:00</td>\n",
       "      <td>4123.34</td>\n",
       "      <td>32899.37</td>\n",
       "      <td>0.0</td>\n",
       "      <td>0.000</td>\n",
       "    </tr>\n",
       "    <tr>\n",
       "      <th>15881</th>\n",
       "      <td>2022-05-09 00:00:00</td>\n",
       "      <td>3991.24</td>\n",
       "      <td>0.00</td>\n",
       "      <td>0.0</td>\n",
       "      <td>0.000</td>\n",
       "    </tr>\n",
       "  </tbody>\n",
       "</table>\n",
       "<p>15882 rows × 5 columns</p>\n",
       "</div>"
      ],
      "text/plain": [
       "                  DateTime  S&P 500  Dow Jones    Gold  Silver\n",
       "0      1896-07-31 00:00:10     0.00      32.02     0.0   0.000\n",
       "1      1896-08-01 00:00:10     3.81       0.00     0.0   0.000\n",
       "2      1896-08-31 00:00:10     0.00      31.97     0.0   0.000\n",
       "3      1896-09-01 00:00:10     4.01       0.00     0.0   0.000\n",
       "4      1896-09-30 00:00:10     0.00      36.05     0.0   0.000\n",
       "...                    ...      ...        ...     ...     ...\n",
       "15877  2022-05-03 00:00:00  4175.48   33128.79  1857.9  22.630\n",
       "15878  2022-05-04 00:00:00  4300.17   34061.06  1868.7  22.595\n",
       "15879  2022-05-05 00:00:00  4146.87   32997.97  1895.2  22.915\n",
       "15880  2022-05-06 00:00:00  4123.34   32899.37     0.0   0.000\n",
       "15881  2022-05-09 00:00:00  3991.24       0.00     0.0   0.000\n",
       "\n",
       "[15882 rows x 5 columns]"
      ]
     },
     "execution_count": 45,
     "metadata": {},
     "output_type": "execute_result"
    }
   ],
   "source": [
    "dft"
   ]
  },
  {
   "cell_type": "code",
   "execution_count": 46,
   "id": "ab4448a5",
   "metadata": {},
   "outputs": [
    {
     "data": {
      "text/plain": [
       "DateTime     0\n",
       "S&P 500      0\n",
       "Dow Jones    0\n",
       "Gold         0\n",
       "Silver       0\n",
       "dtype: int64"
      ]
     },
     "execution_count": 46,
     "metadata": {},
     "output_type": "execute_result"
    }
   ],
   "source": [
    "dft.isnull().sum()"
   ]
  },
  {
   "cell_type": "code",
   "execution_count": 47,
   "id": "aa01452a",
   "metadata": {},
   "outputs": [],
   "source": [
    "dft['DateTime']=pd.to_datetime(dft['DateTime'])"
   ]
  },
  {
   "cell_type": "code",
   "execution_count": 48,
   "id": "d16f0c85",
   "metadata": {},
   "outputs": [
    {
     "name": "stdout",
     "output_type": "stream",
     "text": [
      "<class 'pandas.core.frame.DataFrame'>\n",
      "RangeIndex: 15882 entries, 0 to 15881\n",
      "Data columns (total 5 columns):\n",
      " #   Column     Non-Null Count  Dtype         \n",
      "---  ------     --------------  -----         \n",
      " 0   DateTime   15882 non-null  datetime64[ns]\n",
      " 1   S&P 500    15882 non-null  float64       \n",
      " 2   Dow Jones  15882 non-null  float64       \n",
      " 3   Gold       15882 non-null  float64       \n",
      " 4   Silver     15882 non-null  float64       \n",
      "dtypes: datetime64[ns](1), float64(4)\n",
      "memory usage: 620.5 KB\n"
     ]
    }
   ],
   "source": [
    "dft.info()"
   ]
  },
  {
   "cell_type": "code",
   "execution_count": 49,
   "id": "cfc4cd02",
   "metadata": {},
   "outputs": [
    {
     "data": {
      "text/html": [
       "<div>\n",
       "<style scoped>\n",
       "    .dataframe tbody tr th:only-of-type {\n",
       "        vertical-align: middle;\n",
       "    }\n",
       "\n",
       "    .dataframe tbody tr th {\n",
       "        vertical-align: top;\n",
       "    }\n",
       "\n",
       "    .dataframe thead th {\n",
       "        text-align: right;\n",
       "    }\n",
       "</style>\n",
       "<table border=\"1\" class=\"dataframe\">\n",
       "  <thead>\n",
       "    <tr style=\"text-align: right;\">\n",
       "      <th></th>\n",
       "      <th>DateTime</th>\n",
       "      <th>S&amp;P 500</th>\n",
       "      <th>Dow Jones</th>\n",
       "      <th>Gold</th>\n",
       "      <th>Silver</th>\n",
       "    </tr>\n",
       "  </thead>\n",
       "  <tbody>\n",
       "    <tr>\n",
       "      <th>0</th>\n",
       "      <td>1896-07-31 00:00:10</td>\n",
       "      <td>0.00</td>\n",
       "      <td>32.02</td>\n",
       "      <td>0.0</td>\n",
       "      <td>0.000</td>\n",
       "    </tr>\n",
       "    <tr>\n",
       "      <th>1</th>\n",
       "      <td>1896-08-01 00:00:10</td>\n",
       "      <td>3.81</td>\n",
       "      <td>0.00</td>\n",
       "      <td>0.0</td>\n",
       "      <td>0.000</td>\n",
       "    </tr>\n",
       "    <tr>\n",
       "      <th>2</th>\n",
       "      <td>1896-08-31 00:00:10</td>\n",
       "      <td>0.00</td>\n",
       "      <td>31.97</td>\n",
       "      <td>0.0</td>\n",
       "      <td>0.000</td>\n",
       "    </tr>\n",
       "    <tr>\n",
       "      <th>3</th>\n",
       "      <td>1896-09-01 00:00:10</td>\n",
       "      <td>4.01</td>\n",
       "      <td>0.00</td>\n",
       "      <td>0.0</td>\n",
       "      <td>0.000</td>\n",
       "    </tr>\n",
       "    <tr>\n",
       "      <th>4</th>\n",
       "      <td>1896-09-30 00:00:10</td>\n",
       "      <td>0.00</td>\n",
       "      <td>36.05</td>\n",
       "      <td>0.0</td>\n",
       "      <td>0.000</td>\n",
       "    </tr>\n",
       "    <tr>\n",
       "      <th>...</th>\n",
       "      <td>...</td>\n",
       "      <td>...</td>\n",
       "      <td>...</td>\n",
       "      <td>...</td>\n",
       "      <td>...</td>\n",
       "    </tr>\n",
       "    <tr>\n",
       "      <th>15877</th>\n",
       "      <td>2022-05-03 00:00:00</td>\n",
       "      <td>4175.48</td>\n",
       "      <td>33128.79</td>\n",
       "      <td>1857.9</td>\n",
       "      <td>22.630</td>\n",
       "    </tr>\n",
       "    <tr>\n",
       "      <th>15878</th>\n",
       "      <td>2022-05-04 00:00:00</td>\n",
       "      <td>4300.17</td>\n",
       "      <td>34061.06</td>\n",
       "      <td>1868.7</td>\n",
       "      <td>22.595</td>\n",
       "    </tr>\n",
       "    <tr>\n",
       "      <th>15879</th>\n",
       "      <td>2022-05-05 00:00:00</td>\n",
       "      <td>4146.87</td>\n",
       "      <td>32997.97</td>\n",
       "      <td>1895.2</td>\n",
       "      <td>22.915</td>\n",
       "    </tr>\n",
       "    <tr>\n",
       "      <th>15880</th>\n",
       "      <td>2022-05-06 00:00:00</td>\n",
       "      <td>4123.34</td>\n",
       "      <td>32899.37</td>\n",
       "      <td>0.0</td>\n",
       "      <td>0.000</td>\n",
       "    </tr>\n",
       "    <tr>\n",
       "      <th>15881</th>\n",
       "      <td>2022-05-09 00:00:00</td>\n",
       "      <td>3991.24</td>\n",
       "      <td>0.00</td>\n",
       "      <td>0.0</td>\n",
       "      <td>0.000</td>\n",
       "    </tr>\n",
       "  </tbody>\n",
       "</table>\n",
       "<p>15882 rows × 5 columns</p>\n",
       "</div>"
      ],
      "text/plain": [
       "                 DateTime  S&P 500  Dow Jones    Gold  Silver\n",
       "0     1896-07-31 00:00:10     0.00      32.02     0.0   0.000\n",
       "1     1896-08-01 00:00:10     3.81       0.00     0.0   0.000\n",
       "2     1896-08-31 00:00:10     0.00      31.97     0.0   0.000\n",
       "3     1896-09-01 00:00:10     4.01       0.00     0.0   0.000\n",
       "4     1896-09-30 00:00:10     0.00      36.05     0.0   0.000\n",
       "...                   ...      ...        ...     ...     ...\n",
       "15877 2022-05-03 00:00:00  4175.48   33128.79  1857.9  22.630\n",
       "15878 2022-05-04 00:00:00  4300.17   34061.06  1868.7  22.595\n",
       "15879 2022-05-05 00:00:00  4146.87   32997.97  1895.2  22.915\n",
       "15880 2022-05-06 00:00:00  4123.34   32899.37     0.0   0.000\n",
       "15881 2022-05-09 00:00:00  3991.24       0.00     0.0   0.000\n",
       "\n",
       "[15882 rows x 5 columns]"
      ]
     },
     "execution_count": 49,
     "metadata": {},
     "output_type": "execute_result"
    }
   ],
   "source": [
    "dft"
   ]
  },
  {
   "cell_type": "code",
   "execution_count": 50,
   "id": "8a97ddaf",
   "metadata": {},
   "outputs": [],
   "source": [
    "dft = dft.set_index(\"DateTime\")"
   ]
  },
  {
   "cell_type": "code",
   "execution_count": 51,
   "id": "446c05b5",
   "metadata": {},
   "outputs": [
    {
     "data": {
      "text/html": [
       "<div>\n",
       "<style scoped>\n",
       "    .dataframe tbody tr th:only-of-type {\n",
       "        vertical-align: middle;\n",
       "    }\n",
       "\n",
       "    .dataframe tbody tr th {\n",
       "        vertical-align: top;\n",
       "    }\n",
       "\n",
       "    .dataframe thead th {\n",
       "        text-align: right;\n",
       "    }\n",
       "</style>\n",
       "<table border=\"1\" class=\"dataframe\">\n",
       "  <thead>\n",
       "    <tr style=\"text-align: right;\">\n",
       "      <th></th>\n",
       "      <th>S&amp;P 500</th>\n",
       "      <th>Dow Jones</th>\n",
       "      <th>Gold</th>\n",
       "      <th>Silver</th>\n",
       "    </tr>\n",
       "    <tr>\n",
       "      <th>DateTime</th>\n",
       "      <th></th>\n",
       "      <th></th>\n",
       "      <th></th>\n",
       "      <th></th>\n",
       "    </tr>\n",
       "  </thead>\n",
       "  <tbody>\n",
       "    <tr>\n",
       "      <th>1896-07-31 00:00:10</th>\n",
       "      <td>0.00</td>\n",
       "      <td>32.02</td>\n",
       "      <td>0.0</td>\n",
       "      <td>0.000</td>\n",
       "    </tr>\n",
       "    <tr>\n",
       "      <th>1896-08-01 00:00:10</th>\n",
       "      <td>3.81</td>\n",
       "      <td>0.00</td>\n",
       "      <td>0.0</td>\n",
       "      <td>0.000</td>\n",
       "    </tr>\n",
       "    <tr>\n",
       "      <th>1896-08-31 00:00:10</th>\n",
       "      <td>0.00</td>\n",
       "      <td>31.97</td>\n",
       "      <td>0.0</td>\n",
       "      <td>0.000</td>\n",
       "    </tr>\n",
       "    <tr>\n",
       "      <th>1896-09-01 00:00:10</th>\n",
       "      <td>4.01</td>\n",
       "      <td>0.00</td>\n",
       "      <td>0.0</td>\n",
       "      <td>0.000</td>\n",
       "    </tr>\n",
       "    <tr>\n",
       "      <th>1896-09-30 00:00:10</th>\n",
       "      <td>0.00</td>\n",
       "      <td>36.05</td>\n",
       "      <td>0.0</td>\n",
       "      <td>0.000</td>\n",
       "    </tr>\n",
       "    <tr>\n",
       "      <th>...</th>\n",
       "      <td>...</td>\n",
       "      <td>...</td>\n",
       "      <td>...</td>\n",
       "      <td>...</td>\n",
       "    </tr>\n",
       "    <tr>\n",
       "      <th>2022-05-03 00:00:00</th>\n",
       "      <td>4175.48</td>\n",
       "      <td>33128.79</td>\n",
       "      <td>1857.9</td>\n",
       "      <td>22.630</td>\n",
       "    </tr>\n",
       "    <tr>\n",
       "      <th>2022-05-04 00:00:00</th>\n",
       "      <td>4300.17</td>\n",
       "      <td>34061.06</td>\n",
       "      <td>1868.7</td>\n",
       "      <td>22.595</td>\n",
       "    </tr>\n",
       "    <tr>\n",
       "      <th>2022-05-05 00:00:00</th>\n",
       "      <td>4146.87</td>\n",
       "      <td>32997.97</td>\n",
       "      <td>1895.2</td>\n",
       "      <td>22.915</td>\n",
       "    </tr>\n",
       "    <tr>\n",
       "      <th>2022-05-06 00:00:00</th>\n",
       "      <td>4123.34</td>\n",
       "      <td>32899.37</td>\n",
       "      <td>0.0</td>\n",
       "      <td>0.000</td>\n",
       "    </tr>\n",
       "    <tr>\n",
       "      <th>2022-05-09 00:00:00</th>\n",
       "      <td>3991.24</td>\n",
       "      <td>0.00</td>\n",
       "      <td>0.0</td>\n",
       "      <td>0.000</td>\n",
       "    </tr>\n",
       "  </tbody>\n",
       "</table>\n",
       "<p>15882 rows × 4 columns</p>\n",
       "</div>"
      ],
      "text/plain": [
       "                     S&P 500  Dow Jones    Gold  Silver\n",
       "DateTime                                               \n",
       "1896-07-31 00:00:10     0.00      32.02     0.0   0.000\n",
       "1896-08-01 00:00:10     3.81       0.00     0.0   0.000\n",
       "1896-08-31 00:00:10     0.00      31.97     0.0   0.000\n",
       "1896-09-01 00:00:10     4.01       0.00     0.0   0.000\n",
       "1896-09-30 00:00:10     0.00      36.05     0.0   0.000\n",
       "...                      ...        ...     ...     ...\n",
       "2022-05-03 00:00:00  4175.48   33128.79  1857.9  22.630\n",
       "2022-05-04 00:00:00  4300.17   34061.06  1868.7  22.595\n",
       "2022-05-05 00:00:00  4146.87   32997.97  1895.2  22.915\n",
       "2022-05-06 00:00:00  4123.34   32899.37     0.0   0.000\n",
       "2022-05-09 00:00:00  3991.24       0.00     0.0   0.000\n",
       "\n",
       "[15882 rows x 4 columns]"
      ]
     },
     "execution_count": 51,
     "metadata": {},
     "output_type": "execute_result"
    }
   ],
   "source": [
    "dft"
   ]
  },
  {
   "cell_type": "code",
   "execution_count": 52,
   "id": "e3757458",
   "metadata": {},
   "outputs": [
    {
     "data": {
      "text/plain": [
       "[<matplotlib.lines.Line2D at 0x24ba7006ee0>]"
      ]
     },
     "execution_count": 52,
     "metadata": {},
     "output_type": "execute_result"
    },
    {
     "data": {
      "image/png": "[encoded data removed]",
      "text/plain": [
       "<Figure size 864x720 with 1 Axes>"
      ]
     },
     "metadata": {},
     "output_type": "display_data"
    }
   ],
   "source": [
    "import matplotlib.pyplot as plt\n",
    " \n",
    "# Using a inbuilt style to change\n",
    "# the look and feel of the plot\n",
    "plt.style.use(\"fivethirtyeight\")\n",
    " \n",
    "# setting figure size to 12, 10\n",
    "plt.figure(figsize=(12, 10))\n",
    " \n",
    "# Labelling the axes and setting\n",
    "# a title\n",
    "plt.xlabel(\"DateTime\")\n",
    "plt.ylabel(\"values\")\n",
    "plt.title(\" Time Series Plot\")\n",
    " \n",
    "# plotting the \"A\" column alone\n",
    "plt.plot(dft['S&P 500'])"
   ]
  },
  {
   "cell_type": "code",
   "execution_count": 53,
   "id": "2e179ee8",
   "metadata": {},
   "outputs": [
    {
     "data": {
      "text/plain": [
       "array([<AxesSubplot:xlabel='DateTime'>, <AxesSubplot:xlabel='DateTime'>,\n",
       "       <AxesSubplot:xlabel='DateTime'>, <AxesSubplot:xlabel='DateTime'>],\n",
       "      dtype=object)"
      ]
     },
     "execution_count": 53,
     "metadata": {},
     "output_type": "execute_result"
    },
    {
     "data": {
      "image/png": "[encoded data removed]",
      "text/plain": [
       "<Figure size 864x1080 with 4 Axes>"
      ]
     },
     "metadata": {},
     "output_type": "display_data"
    }
   ],
   "source": [
    "plt.style.use(\"fivethirtyeight\")\n",
    "dft.plot(subplots=True, figsize=(12, 15))"
   ]
  },
  {
   "cell_type": "code",
   "execution_count": 54,
   "id": "36f38323",
   "metadata": {},
   "outputs": [],
   "source": [
    "# import matplotlib.pyplot as plt\n",
    " \n",
    "# # Using a inbuilt style to change\n",
    "# # the look and feel of the plot\n",
    "# plt.style.use(\"fivethirtyeight\")\n",
    " \n",
    "# # setting figure size to 12, 10\n",
    "# plt.figure(figsize=(25, 10))\n",
    " \n",
    "# # Labelling the axes and setting a\n",
    "# # title\n",
    "# plt.xlabel(\"DateTime\")\n",
    "# plt.ylabel(\"Values\")\n",
    "# plt.title(\"Bar Plot of 'S&P 500'\")\n",
    "\n",
    " \n",
    "# # plotting the \"A\" column alone\n",
    "# plt.bar(dft.index, dft[\"S&P 500\"], width=5)"
   ]
  },
  {
   "cell_type": "code",
   "execution_count": 55,
   "id": "9795aaad",
   "metadata": {},
   "outputs": [
    {
     "data": {
      "text/html": [
       "<div>\n",
       "<style scoped>\n",
       "    .dataframe tbody tr th:only-of-type {\n",
       "        vertical-align: middle;\n",
       "    }\n",
       "\n",
       "    .dataframe tbody tr th {\n",
       "        vertical-align: top;\n",
       "    }\n",
       "\n",
       "    .dataframe thead th {\n",
       "        text-align: right;\n",
       "    }\n",
       "</style>\n",
       "<table border=\"1\" class=\"dataframe\">\n",
       "  <thead>\n",
       "    <tr style=\"text-align: right;\">\n",
       "      <th></th>\n",
       "      <th>S&amp;P 500</th>\n",
       "      <th>Dow Jones</th>\n",
       "      <th>Gold</th>\n",
       "      <th>Silver</th>\n",
       "    </tr>\n",
       "  </thead>\n",
       "  <tbody>\n",
       "    <tr>\n",
       "      <th>S&amp;P 500</th>\n",
       "      <td>1.000000</td>\n",
       "      <td>0.966183</td>\n",
       "      <td>0.621849</td>\n",
       "      <td>0.420163</td>\n",
       "    </tr>\n",
       "    <tr>\n",
       "      <th>Dow Jones</th>\n",
       "      <td>0.966183</td>\n",
       "      <td>1.000000</td>\n",
       "      <td>0.623401</td>\n",
       "      <td>0.419814</td>\n",
       "    </tr>\n",
       "    <tr>\n",
       "      <th>Gold</th>\n",
       "      <td>0.621849</td>\n",
       "      <td>0.623401</td>\n",
       "      <td>1.000000</td>\n",
       "      <td>0.918283</td>\n",
       "    </tr>\n",
       "    <tr>\n",
       "      <th>Silver</th>\n",
       "      <td>0.420163</td>\n",
       "      <td>0.419814</td>\n",
       "      <td>0.918283</td>\n",
       "      <td>1.000000</td>\n",
       "    </tr>\n",
       "  </tbody>\n",
       "</table>\n",
       "</div>"
      ],
      "text/plain": [
       "            S&P 500  Dow Jones      Gold    Silver\n",
       "S&P 500    1.000000   0.966183  0.621849  0.420163\n",
       "Dow Jones  0.966183   1.000000  0.623401  0.419814\n",
       "Gold       0.621849   0.623401  1.000000  0.918283\n",
       "Silver     0.420163   0.419814  0.918283  1.000000"
      ]
     },
     "execution_count": 55,
     "metadata": {},
     "output_type": "execute_result"
    }
   ],
   "source": [
    "dft.corr()"
   ]
  },
  {
   "cell_type": "code",
   "execution_count": 56,
   "id": "e242fc57",
   "metadata": {},
   "outputs": [
    {
     "data": {
      "text/plain": [
       "0.9661833167747765"
      ]
     },
     "execution_count": 56,
     "metadata": {},
     "output_type": "execute_result"
    }
   ],
   "source": [
    "dft['S&P 500'].corr(dft['Dow Jones'])"
   ]
  },
  {
   "cell_type": "code",
   "execution_count": 57,
   "id": "bca4da40",
   "metadata": {},
   "outputs": [
    {
     "data": {
      "text/plain": [
       "0.6218490491826277"
      ]
     },
     "execution_count": 57,
     "metadata": {},
     "output_type": "execute_result"
    }
   ],
   "source": [
    "dft['S&P 500'].corr(dft['Gold'])"
   ]
  },
  {
   "cell_type": "code",
   "execution_count": 58,
   "id": "92eba10d",
   "metadata": {},
   "outputs": [
    {
     "data": {
      "text/plain": [
       "0.4201627007923873"
      ]
     },
     "execution_count": 58,
     "metadata": {},
     "output_type": "execute_result"
    }
   ],
   "source": [
    "dft['S&P 500'].corr(dft['Silver'])"
   ]
  },
  {
   "cell_type": "code",
   "execution_count": 59,
   "id": "2d34b715",
   "metadata": {},
   "outputs": [
    {
     "data": {
      "text/plain": [
       "0.4198137413610577"
      ]
     },
     "execution_count": 59,
     "metadata": {},
     "output_type": "execute_result"
    }
   ],
   "source": [
    "dft['Dow Jones'].corr(dft['Silver'])"
   ]
  },
  {
   "cell_type": "code",
   "execution_count": 60,
   "id": "ddd52145",
   "metadata": {},
   "outputs": [
    {
     "data": {
      "text/plain": [
       "0.6234011196673669"
      ]
     },
     "execution_count": 60,
     "metadata": {},
     "output_type": "execute_result"
    }
   ],
   "source": [
    "dft['Dow Jones'].corr(dft['Gold'])"
   ]
  },
  {
   "cell_type": "code",
   "execution_count": 61,
   "id": "dd3413ae",
   "metadata": {},
   "outputs": [
    {
     "data": {
      "text/plain": [
       "0.9661833167747764"
      ]
     },
     "execution_count": 61,
     "metadata": {},
     "output_type": "execute_result"
    }
   ],
   "source": [
    "dft['Dow Jones'].corr(dft['S&P 500'])"
   ]
  },
  {
   "cell_type": "code",
   "execution_count": 62,
   "id": "43a86ffe",
   "metadata": {},
   "outputs": [
    {
     "data": {
      "text/plain": [
       "0.6218490491826277"
      ]
     },
     "execution_count": 62,
     "metadata": {},
     "output_type": "execute_result"
    }
   ],
   "source": [
    "dft['Gold'].corr(dft['S&P 500'])"
   ]
  },
  {
   "cell_type": "code",
   "execution_count": 63,
   "id": "bb59d591",
   "metadata": {},
   "outputs": [
    {
     "data": {
      "text/plain": [
       "0.9182833619975156"
      ]
     },
     "execution_count": 63,
     "metadata": {},
     "output_type": "execute_result"
    }
   ],
   "source": [
    "dft['Gold'].corr(dft['Silver'])"
   ]
  },
  {
   "cell_type": "code",
   "execution_count": 64,
   "id": "1fada1b2",
   "metadata": {},
   "outputs": [
    {
     "data": {
      "text/plain": [
       "0.6234011196673668"
      ]
     },
     "execution_count": 64,
     "metadata": {},
     "output_type": "execute_result"
    }
   ],
   "source": [
    "dft['Gold'].corr(dft['Dow Jones'])"
   ]
  },
  {
   "cell_type": "code",
   "execution_count": 65,
   "id": "fcb0ddd8",
   "metadata": {},
   "outputs": [
    {
     "data": {
      "text/plain": [
       "0.4198137413610577"
      ]
     },
     "execution_count": 65,
     "metadata": {},
     "output_type": "execute_result"
    }
   ],
   "source": [
    "dft['Silver'].corr(dft['Dow Jones'])"
   ]
  },
  {
   "cell_type": "code",
   "execution_count": 66,
   "id": "a3e9cc3b",
   "metadata": {},
   "outputs": [
    {
     "data": {
      "text/plain": [
       "0.9182833619975156"
      ]
     },
     "execution_count": 66,
     "metadata": {},
     "output_type": "execute_result"
    }
   ],
   "source": [
    "dft['Silver'].corr(dft['Gold'])"
   ]
  },
  {
   "cell_type": "code",
   "execution_count": 67,
   "id": "e97efdc1",
   "metadata": {},
   "outputs": [
    {
     "data": {
      "text/plain": [
       "0.4201627007923873"
      ]
     },
     "execution_count": 67,
     "metadata": {},
     "output_type": "execute_result"
    }
   ],
   "source": [
    "dft['Silver'].corr(dft['S&P 500'])"
   ]
  },
  {
   "cell_type": "code",
   "execution_count": 68,
   "id": "4fc72bab",
   "metadata": {},
   "outputs": [
    {
     "data": {
      "image/png": "[encoded data removed]",
      "text/plain": [
       "<Figure size 432x288 with 1 Axes>"
      ]
     },
     "metadata": {},
     "output_type": "display_data"
    }
   ],
   "source": [
    "import matplotlib\n",
    "import matplotlib.pyplot as plt\n",
    "%matplotlib inline\n",
    "matplotlib.style.use('ggplot')\n",
    "x=dft['Silver']\n",
    "y=dft['Gold']\n",
    "plt.scatter (x,y)\n",
    "\n",
    "plt.show()"
   ]
  },
  {
   "cell_type": "code",
   "execution_count": 69,
   "id": "66509ea7",
   "metadata": {},
   "outputs": [
    {
     "data": {
      "text/plain": [
       "<AxesSubplot:>"
      ]
     },
     "execution_count": 69,
     "metadata": {},
     "output_type": "execute_result"
    },
    {
     "data": {
      "image/png": "[encoded data removed]",
      "text/plain": [
       "<Figure size 648x576 with 2 Axes>"
      ]
     },
     "metadata": {},
     "output_type": "display_data"
    }
   ],
   "source": [
    "corrmat = dft.corr()\n",
    "  \n",
    "f, ax = plt.subplots(figsize =(9, 8))\n",
    "sns.heatmap(corrmat, ax = ax, cmap =\"YlGnBu\", linewidths = 0.1)"
   ]
  },
  {
   "cell_type": "code",
   "execution_count": 70,
   "id": "385eea53",
   "metadata": {},
   "outputs": [],
   "source": [
    "output=dft.to_json('temp.json')"
   ]
  },
  {
   "cell_type": "code",
   "execution_count": 71,
   "id": "2f68a0d7",
   "metadata": {},
   "outputs": [],
   "source": [
    "output"
   ]
  },
  {
   "cell_type": "code",
   "execution_count": 72,
   "id": "c865ba5e",
   "metadata": {},
   "outputs": [
    {
     "data": {
      "text/html": [
       "<div>\n",
       "<style scoped>\n",
       "    .dataframe tbody tr th:only-of-type {\n",
       "        vertical-align: middle;\n",
       "    }\n",
       "\n",
       "    .dataframe tbody tr th {\n",
       "        vertical-align: top;\n",
       "    }\n",
       "\n",
       "    .dataframe thead th {\n",
       "        text-align: right;\n",
       "    }\n",
       "</style>\n",
       "<table border=\"1\" class=\"dataframe\">\n",
       "  <thead>\n",
       "    <tr style=\"text-align: right;\">\n",
       "      <th></th>\n",
       "      <th>S&amp;P 500</th>\n",
       "      <th>Dow Jones</th>\n",
       "      <th>Gold</th>\n",
       "      <th>Silver</th>\n",
       "    </tr>\n",
       "  </thead>\n",
       "  <tbody>\n",
       "    <tr>\n",
       "      <th>count</th>\n",
       "      <td>15882.000000</td>\n",
       "      <td>15882.000000</td>\n",
       "      <td>15882.000000</td>\n",
       "      <td>15882.000000</td>\n",
       "    </tr>\n",
       "    <tr>\n",
       "      <th>mean</th>\n",
       "      <td>329.714603</td>\n",
       "      <td>2815.474868</td>\n",
       "      <td>509.421450</td>\n",
       "      <td>8.566219</td>\n",
       "    </tr>\n",
       "    <tr>\n",
       "      <th>std</th>\n",
       "      <td>950.760326</td>\n",
       "      <td>8022.469027</td>\n",
       "      <td>511.155845</td>\n",
       "      <td>8.147477</td>\n",
       "    </tr>\n",
       "    <tr>\n",
       "      <th>min</th>\n",
       "      <td>0.000000</td>\n",
       "      <td>0.000000</td>\n",
       "      <td>0.000000</td>\n",
       "      <td>0.000000</td>\n",
       "    </tr>\n",
       "    <tr>\n",
       "      <th>25%</th>\n",
       "      <td>0.000000</td>\n",
       "      <td>0.000000</td>\n",
       "      <td>136.700000</td>\n",
       "      <td>3.954248</td>\n",
       "    </tr>\n",
       "    <tr>\n",
       "      <th>50%</th>\n",
       "      <td>0.000000</td>\n",
       "      <td>0.000000</td>\n",
       "      <td>361.175000</td>\n",
       "      <td>5.319500</td>\n",
       "    </tr>\n",
       "    <tr>\n",
       "      <th>75%</th>\n",
       "      <td>0.000000</td>\n",
       "      <td>0.000000</td>\n",
       "      <td>643.475000</td>\n",
       "      <td>13.308750</td>\n",
       "    </tr>\n",
       "    <tr>\n",
       "      <th>max</th>\n",
       "      <td>4796.560000</td>\n",
       "      <td>36799.650000</td>\n",
       "      <td>2061.500000</td>\n",
       "      <td>49.450000</td>\n",
       "    </tr>\n",
       "  </tbody>\n",
       "</table>\n",
       "</div>"
      ],
      "text/plain": [
       "            S&P 500     Dow Jones          Gold        Silver\n",
       "count  15882.000000  15882.000000  15882.000000  15882.000000\n",
       "mean     329.714603   2815.474868    509.421450      8.566219\n",
       "std      950.760326   8022.469027    511.155845      8.147477\n",
       "min        0.000000      0.000000      0.000000      0.000000\n",
       "25%        0.000000      0.000000    136.700000      3.954248\n",
       "50%        0.000000      0.000000    361.175000      5.319500\n",
       "75%        0.000000      0.000000    643.475000     13.308750\n",
       "max     4796.560000  36799.650000   2061.500000     49.450000"
      ]
     },
     "execution_count": 72,
     "metadata": {},
     "output_type": "execute_result"
    }
   ],
   "source": [
    "dft.describe()"
   ]
  },
  {
   "cell_type": "code",
   "execution_count": 73,
   "id": "48292491",
   "metadata": {},
   "outputs": [
    {
     "name": "stdout",
     "output_type": "stream",
     "text": [
      "Requirement already satisfied: pmdarima in c:\\users\\swapna.n\\anaconda3\\lib\\site-packages (1.8.5)\n",
      "Requirement already satisfied: setuptools!=50.0.0,>=38.6.0 in c:\\users\\swapna.n\\anaconda3\\lib\\site-packages (from pmdarima) (58.0.4)\n",
      "Requirement already satisfied: urllib3 in c:\\users\\swapna.n\\anaconda3\\lib\\site-packages (from pmdarima) (1.26.7)\n",
      "Requirement already satisfied: Cython!=0.29.18,>=0.29 in c:\\users\\swapna.n\\anaconda3\\lib\\site-packages (from pmdarima) (0.29.24)\n",
      "Requirement already satisfied: pandas>=0.19 in c:\\users\\swapna.n\\anaconda3\\lib\\site-packages (from pmdarima) (1.3.4)\n",
      "Requirement already satisfied: scikit-learn>=0.22 in c:\\users\\swapna.n\\anaconda3\\lib\\site-packages (from pmdarima) (0.24.2)\n",
      "Requirement already satisfied: joblib>=0.11 in c:\\users\\swapna.n\\anaconda3\\lib\\site-packages (from pmdarima) (1.1.0)\n",
      "Requirement already satisfied: numpy>=1.19.3 in c:\\users\\swapna.n\\anaconda3\\lib\\site-packages (from pmdarima) (1.20.3)\n",
      "Requirement already satisfied: scipy>=1.3.2 in c:\\users\\swapna.n\\anaconda3\\lib\\site-packages (from pmdarima) (1.7.1)\n",
      "Requirement already satisfied: statsmodels!=0.12.0,>=0.11 in c:\\users\\swapna.n\\anaconda3\\lib\\site-packages (from pmdarima) (0.12.2)\n",
      "Requirement already satisfied: python-dateutil>=2.7.3 in c:\\users\\swapna.n\\anaconda3\\lib\\site-packages (from pandas>=0.19->pmdarima) (2.8.2)\n",
      "Requirement already satisfied: pytz>=2017.3 in c:\\users\\swapna.n\\anaconda3\\lib\\site-packages (from pandas>=0.19->pmdarima) (2021.3)\n",
      "Requirement already satisfied: six>=1.5 in c:\\users\\swapna.n\\anaconda3\\lib\\site-packages (from python-dateutil>=2.7.3->pandas>=0.19->pmdarima) (1.16.0)\n",
      "Requirement already satisfied: threadpoolctl>=2.0.0 in c:\\users\\swapna.n\\anaconda3\\lib\\site-packages (from scikit-learn>=0.22->pmdarima) (2.2.0)\n",
      "Requirement already satisfied: patsy>=0.5 in c:\\users\\swapna.n\\anaconda3\\lib\\site-packages (from statsmodels!=0.12.0,>=0.11->pmdarima) (0.5.2)\n"
     ]
    },
    {
     "name": "stderr",
     "output_type": "stream",
     "text": [
      "Error processing line 1 of C:\\Users\\Swapna.N\\anaconda3\\lib\\site-packages\\vision-1.0.0-py3.9-nspkg.pth:\n",
      "\n",
      "  Traceback (most recent call last):\n",
      "    File \"C:\\Users\\Swapna.N\\anaconda3\\lib\\site.py\", line 169, in addpackage\n",
      "      exec(line)\n",
      "    File \"<string>\", line 1, in <module>\n",
      "    File \"<frozen importlib._bootstrap>\", line 562, in module_from_spec\n",
      "  AttributeError: 'NoneType' object has no attribute 'loader'\n",
      "\n",
      "Remainder of file ignored\n"
     ]
    }
   ],
   "source": [
    "!pip install pmdarima"
   ]
  },
  {
   "cell_type": "code",
   "execution_count": 74,
   "id": "6d19ed4a",
   "metadata": {},
   "outputs": [],
   "source": [
    "import pandas as pd\n",
    "import numpy as np"
   ]
  },
  {
   "cell_type": "code",
   "execution_count": 75,
   "id": "be98b741",
   "metadata": {},
   "outputs": [],
   "source": [
    "df= pd.read_html(\"sp500-vs-dow-jones-vs-go.xls\",index_col=\"DateTime\",parse_dates=True)"
   ]
  },
  {
   "cell_type": "code",
   "execution_count": 76,
   "id": "f55c72ff",
   "metadata": {},
   "outputs": [
    {
     "data": {
      "text/plain": [
       "[                     S&P 500  Dow Jones    Gold  Silver\n",
       " DateTime                                               \n",
       " 1896-07-31 00:00:10      NaN      32.02     NaN     NaN\n",
       " 1896-08-01 00:00:10     3.81        NaN     NaN     NaN\n",
       " 1896-08-31 00:00:10      NaN      31.97     NaN     NaN\n",
       " 1896-09-01 00:00:10     4.01        NaN     NaN     NaN\n",
       " 1896-09-30 00:00:10      NaN      36.05     NaN     NaN\n",
       " ...                      ...        ...     ...     ...\n",
       " 2022-05-03 00:00:00  4175.48   33128.79  1857.9  22.630\n",
       " 2022-05-04 00:00:00  4300.17   34061.06  1868.7  22.595\n",
       " 2022-05-05 00:00:00  4146.87   32997.97  1895.2  22.915\n",
       " 2022-05-06 00:00:00  4123.34   32899.37     NaN     NaN\n",
       " 2022-05-09 00:00:00  3991.24        NaN     NaN     NaN\n",
       " \n",
       " [15882 rows x 4 columns]]"
      ]
     },
     "execution_count": 76,
     "metadata": {},
     "output_type": "execute_result"
    }
   ],
   "source": [
    "df"
   ]
  },
  {
   "cell_type": "code",
   "execution_count": 77,
   "id": "dc0bdf71",
   "metadata": {},
   "outputs": [],
   "source": [
    "df_main=df[0]"
   ]
  },
  {
   "cell_type": "code",
   "execution_count": 78,
   "id": "3ce3e4ab",
   "metadata": {},
   "outputs": [],
   "source": [
    "dft=df_main.dropna()"
   ]
  },
  {
   "cell_type": "code",
   "execution_count": 79,
   "id": "08ca2641",
   "metadata": {},
   "outputs": [
    {
     "data": {
      "text/html": [
       "<div>\n",
       "<style scoped>\n",
       "    .dataframe tbody tr th:only-of-type {\n",
       "        vertical-align: middle;\n",
       "    }\n",
       "\n",
       "    .dataframe tbody tr th {\n",
       "        vertical-align: top;\n",
       "    }\n",
       "\n",
       "    .dataframe thead th {\n",
       "        text-align: right;\n",
       "    }\n",
       "</style>\n",
       "<table border=\"1\" class=\"dataframe\">\n",
       "  <thead>\n",
       "    <tr style=\"text-align: right;\">\n",
       "      <th></th>\n",
       "      <th>S&amp;P 500</th>\n",
       "      <th>Dow Jones</th>\n",
       "      <th>Gold</th>\n",
       "      <th>Silver</th>\n",
       "    </tr>\n",
       "    <tr>\n",
       "      <th>DateTime</th>\n",
       "      <th></th>\n",
       "      <th></th>\n",
       "      <th></th>\n",
       "      <th></th>\n",
       "    </tr>\n",
       "  </thead>\n",
       "  <tbody>\n",
       "    <tr>\n",
       "      <th>2016-01-04</th>\n",
       "      <td>2012.66</td>\n",
       "      <td>17148.94</td>\n",
       "      <td>1072.70</td>\n",
       "      <td>14.000</td>\n",
       "    </tr>\n",
       "    <tr>\n",
       "      <th>2016-01-05</th>\n",
       "      <td>2016.71</td>\n",
       "      <td>17158.66</td>\n",
       "      <td>1078.00</td>\n",
       "      <td>14.010</td>\n",
       "    </tr>\n",
       "    <tr>\n",
       "      <th>2016-01-06</th>\n",
       "      <td>1990.26</td>\n",
       "      <td>16906.51</td>\n",
       "      <td>1083.85</td>\n",
       "      <td>14.005</td>\n",
       "    </tr>\n",
       "    <tr>\n",
       "      <th>2016-01-07</th>\n",
       "      <td>1943.09</td>\n",
       "      <td>16514.10</td>\n",
       "      <td>1096.00</td>\n",
       "      <td>14.030</td>\n",
       "    </tr>\n",
       "    <tr>\n",
       "      <th>2016-01-08</th>\n",
       "      <td>1922.03</td>\n",
       "      <td>16346.45</td>\n",
       "      <td>1097.45</td>\n",
       "      <td>14.040</td>\n",
       "    </tr>\n",
       "    <tr>\n",
       "      <th>...</th>\n",
       "      <td>...</td>\n",
       "      <td>...</td>\n",
       "      <td>...</td>\n",
       "      <td>...</td>\n",
       "    </tr>\n",
       "    <tr>\n",
       "      <th>2022-04-28</th>\n",
       "      <td>4287.50</td>\n",
       "      <td>33916.39</td>\n",
       "      <td>1890.00</td>\n",
       "      <td>23.160</td>\n",
       "    </tr>\n",
       "    <tr>\n",
       "      <th>2022-04-29</th>\n",
       "      <td>4131.93</td>\n",
       "      <td>32977.21</td>\n",
       "      <td>1915.45</td>\n",
       "      <td>23.445</td>\n",
       "    </tr>\n",
       "    <tr>\n",
       "      <th>2022-05-03</th>\n",
       "      <td>4175.48</td>\n",
       "      <td>33128.79</td>\n",
       "      <td>1857.90</td>\n",
       "      <td>22.630</td>\n",
       "    </tr>\n",
       "    <tr>\n",
       "      <th>2022-05-04</th>\n",
       "      <td>4300.17</td>\n",
       "      <td>34061.06</td>\n",
       "      <td>1868.70</td>\n",
       "      <td>22.595</td>\n",
       "    </tr>\n",
       "    <tr>\n",
       "      <th>2022-05-05</th>\n",
       "      <td>4146.87</td>\n",
       "      <td>32997.97</td>\n",
       "      <td>1895.20</td>\n",
       "      <td>22.915</td>\n",
       "    </tr>\n",
       "  </tbody>\n",
       "</table>\n",
       "<p>1569 rows × 4 columns</p>\n",
       "</div>"
      ],
      "text/plain": [
       "            S&P 500  Dow Jones     Gold  Silver\n",
       "DateTime                                       \n",
       "2016-01-04  2012.66   17148.94  1072.70  14.000\n",
       "2016-01-05  2016.71   17158.66  1078.00  14.010\n",
       "2016-01-06  1990.26   16906.51  1083.85  14.005\n",
       "2016-01-07  1943.09   16514.10  1096.00  14.030\n",
       "2016-01-08  1922.03   16346.45  1097.45  14.040\n",
       "...             ...        ...      ...     ...\n",
       "2022-04-28  4287.50   33916.39  1890.00  23.160\n",
       "2022-04-29  4131.93   32977.21  1915.45  23.445\n",
       "2022-05-03  4175.48   33128.79  1857.90  22.630\n",
       "2022-05-04  4300.17   34061.06  1868.70  22.595\n",
       "2022-05-05  4146.87   32997.97  1895.20  22.915\n",
       "\n",
       "[1569 rows x 4 columns]"
      ]
     },
     "execution_count": 79,
     "metadata": {},
     "output_type": "execute_result"
    }
   ],
   "source": [
    "dft"
   ]
  },
  {
   "cell_type": "code",
   "execution_count": 80,
   "id": "9951fdb3",
   "metadata": {},
   "outputs": [
    {
     "data": {
      "text/plain": [
       "(1569, 4)"
      ]
     },
     "execution_count": 80,
     "metadata": {},
     "output_type": "execute_result"
    }
   ],
   "source": [
    "dft.shape"
   ]
  },
  {
   "cell_type": "code",
   "execution_count": 81,
   "id": "b6d23119",
   "metadata": {},
   "outputs": [
    {
     "data": {
      "text/html": [
       "<div>\n",
       "<style scoped>\n",
       "    .dataframe tbody tr th:only-of-type {\n",
       "        vertical-align: middle;\n",
       "    }\n",
       "\n",
       "    .dataframe tbody tr th {\n",
       "        vertical-align: top;\n",
       "    }\n",
       "\n",
       "    .dataframe thead th {\n",
       "        text-align: right;\n",
       "    }\n",
       "</style>\n",
       "<table border=\"1\" class=\"dataframe\">\n",
       "  <thead>\n",
       "    <tr style=\"text-align: right;\">\n",
       "      <th></th>\n",
       "      <th>S&amp;P 500</th>\n",
       "      <th>Dow Jones</th>\n",
       "      <th>Gold</th>\n",
       "      <th>Silver</th>\n",
       "    </tr>\n",
       "    <tr>\n",
       "      <th>DateTime</th>\n",
       "      <th></th>\n",
       "      <th></th>\n",
       "      <th></th>\n",
       "      <th></th>\n",
       "    </tr>\n",
       "  </thead>\n",
       "  <tbody>\n",
       "    <tr>\n",
       "      <th>2016-01-04</th>\n",
       "      <td>2012.66</td>\n",
       "      <td>17148.94</td>\n",
       "      <td>1072.70</td>\n",
       "      <td>14.000</td>\n",
       "    </tr>\n",
       "    <tr>\n",
       "      <th>2016-01-05</th>\n",
       "      <td>2016.71</td>\n",
       "      <td>17158.66</td>\n",
       "      <td>1078.00</td>\n",
       "      <td>14.010</td>\n",
       "    </tr>\n",
       "    <tr>\n",
       "      <th>2016-01-06</th>\n",
       "      <td>1990.26</td>\n",
       "      <td>16906.51</td>\n",
       "      <td>1083.85</td>\n",
       "      <td>14.005</td>\n",
       "    </tr>\n",
       "    <tr>\n",
       "      <th>2016-01-07</th>\n",
       "      <td>1943.09</td>\n",
       "      <td>16514.10</td>\n",
       "      <td>1096.00</td>\n",
       "      <td>14.030</td>\n",
       "    </tr>\n",
       "    <tr>\n",
       "      <th>2016-01-08</th>\n",
       "      <td>1922.03</td>\n",
       "      <td>16346.45</td>\n",
       "      <td>1097.45</td>\n",
       "      <td>14.040</td>\n",
       "    </tr>\n",
       "  </tbody>\n",
       "</table>\n",
       "</div>"
      ],
      "text/plain": [
       "            S&P 500  Dow Jones     Gold  Silver\n",
       "DateTime                                       \n",
       "2016-01-04  2012.66   17148.94  1072.70  14.000\n",
       "2016-01-05  2016.71   17158.66  1078.00  14.010\n",
       "2016-01-06  1990.26   16906.51  1083.85  14.005\n",
       "2016-01-07  1943.09   16514.10  1096.00  14.030\n",
       "2016-01-08  1922.03   16346.45  1097.45  14.040"
      ]
     },
     "execution_count": 81,
     "metadata": {},
     "output_type": "execute_result"
    }
   ],
   "source": [
    "dft.head()"
   ]
  },
  {
   "cell_type": "code",
   "execution_count": 82,
   "id": "6d2093bb",
   "metadata": {},
   "outputs": [
    {
     "data": {
      "text/plain": [
       "<AxesSubplot:xlabel='DateTime'>"
      ]
     },
     "execution_count": 82,
     "metadata": {},
     "output_type": "execute_result"
    },
    {
     "data": {
      "image/png": "[encoded data removed]",
      "text/plain": [
       "<Figure size 864x360 with 1 Axes>"
      ]
     },
     "metadata": {},
     "output_type": "display_data"
    }
   ],
   "source": [
    "dft['S&P 500'].plot(figsize=(12,5))"
   ]
  },
  {
   "cell_type": "code",
   "execution_count": 83,
   "id": "013ec052",
   "metadata": {},
   "outputs": [
    {
     "data": {
      "text/plain": [
       "<AxesSubplot:xlabel='DateTime'>"
      ]
     },
     "execution_count": 83,
     "metadata": {},
     "output_type": "execute_result"
    },
    {
     "data": {
      "image/png": "[encoded data removed]",
      "text/plain": [
       "<Figure size 864x360 with 1 Axes>"
      ]
     },
     "metadata": {},
     "output_type": "display_data"
    }
   ],
   "source": [
    "dft['Dow Jones'].plot(figsize=(12,5))"
   ]
  },
  {
   "cell_type": "code",
   "execution_count": 84,
   "id": "a89fe3c6",
   "metadata": {},
   "outputs": [
    {
     "data": {
      "text/plain": [
       "<AxesSubplot:xlabel='DateTime'>"
      ]
     },
     "execution_count": 84,
     "metadata": {},
     "output_type": "execute_result"
    },
    {
     "data": {
      "image/png": "[encoded data removed]",
      "text/plain": [
       "<Figure size 864x360 with 1 Axes>"
      ]
     },
     "metadata": {},
     "output_type": "display_data"
    }
   ],
   "source": [
    "dft['Gold'].plot(figsize=(12,5))"
   ]
  },
  {
   "cell_type": "code",
   "execution_count": 85,
   "id": "616f9d73",
   "metadata": {},
   "outputs": [
    {
     "data": {
      "text/plain": [
       "<AxesSubplot:xlabel='DateTime'>"
      ]
     },
     "execution_count": 85,
     "metadata": {},
     "output_type": "execute_result"
    },
    {
     "data": {
      "image/png": "[encoded data removed]",
      "text/plain": [
       "<Figure size 864x360 with 1 Axes>"
      ]
     },
     "metadata": {},
     "output_type": "display_data"
    }
   ],
   "source": [
    "dft['Silver'].plot(figsize=(12,5))"
   ]
  },
  {
   "cell_type": "code",
   "execution_count": 86,
   "id": "018305ac",
   "metadata": {},
   "outputs": [],
   "source": [
    "#VAR Model\n",
    "\n",
    "from statsmodels.graphics.tsaplots import plot_acf, plot_pacf\n",
    "from statsmodels.tsa.statespace.varmax import VARMAX\n",
    "from statsmodels.tsa.api import VAR\n",
    "from statsmodels.tsa.stattools import grangercausalitytests, adfuller\n",
    "from tqdm import tqdm_notebook\n",
    "from itertools import product\n",
    "\n",
    "import matplotlib.pyplot as plt\n",
    "import statsmodels.api as sm\n",
    "import pandas as pd\n",
    "import numpy as np\n",
    "\n",
    "import warnings\n",
    "warnings.filterwarnings('ignore')"
   ]
  },
  {
   "cell_type": "code",
   "execution_count": 87,
   "id": "43df7555",
   "metadata": {},
   "outputs": [],
   "source": [
    "df= pd.read_html(\"sp500-vs-dow-jones-vs-go.xls\",index_col=\"DateTime\",parse_dates=True)\n"
   ]
  },
  {
   "cell_type": "code",
   "execution_count": 88,
   "id": "9301600e",
   "metadata": {},
   "outputs": [
    {
     "data": {
      "text/plain": [
       "[                     S&P 500  Dow Jones    Gold  Silver\n",
       " DateTime                                               \n",
       " 1896-07-31 00:00:10      NaN      32.02     NaN     NaN\n",
       " 1896-08-01 00:00:10     3.81        NaN     NaN     NaN\n",
       " 1896-08-31 00:00:10      NaN      31.97     NaN     NaN\n",
       " 1896-09-01 00:00:10     4.01        NaN     NaN     NaN\n",
       " 1896-09-30 00:00:10      NaN      36.05     NaN     NaN\n",
       " ...                      ...        ...     ...     ...\n",
       " 2022-05-03 00:00:00  4175.48   33128.79  1857.9  22.630\n",
       " 2022-05-04 00:00:00  4300.17   34061.06  1868.7  22.595\n",
       " 2022-05-05 00:00:00  4146.87   32997.97  1895.2  22.915\n",
       " 2022-05-06 00:00:00  4123.34   32899.37     NaN     NaN\n",
       " 2022-05-09 00:00:00  3991.24        NaN     NaN     NaN\n",
       " \n",
       " [15882 rows x 4 columns]]"
      ]
     },
     "execution_count": 88,
     "metadata": {},
     "output_type": "execute_result"
    }
   ],
   "source": [
    "df"
   ]
  },
  {
   "cell_type": "code",
   "execution_count": 89,
   "id": "26d5cf40",
   "metadata": {},
   "outputs": [],
   "source": [
    "df_main=df[0]"
   ]
  },
  {
   "cell_type": "code",
   "execution_count": 90,
   "id": "4f67cc16",
   "metadata": {},
   "outputs": [],
   "source": [
    "dft=df_main.dropna()"
   ]
  },
  {
   "cell_type": "code",
   "execution_count": 91,
   "id": "b6aed9cd",
   "metadata": {},
   "outputs": [
    {
     "data": {
      "text/html": [
       "<div>\n",
       "<style scoped>\n",
       "    .dataframe tbody tr th:only-of-type {\n",
       "        vertical-align: middle;\n",
       "    }\n",
       "\n",
       "    .dataframe tbody tr th {\n",
       "        vertical-align: top;\n",
       "    }\n",
       "\n",
       "    .dataframe thead th {\n",
       "        text-align: right;\n",
       "    }\n",
       "</style>\n",
       "<table border=\"1\" class=\"dataframe\">\n",
       "  <thead>\n",
       "    <tr style=\"text-align: right;\">\n",
       "      <th></th>\n",
       "      <th>S&amp;P 500</th>\n",
       "      <th>Dow Jones</th>\n",
       "      <th>Gold</th>\n",
       "      <th>Silver</th>\n",
       "    </tr>\n",
       "    <tr>\n",
       "      <th>DateTime</th>\n",
       "      <th></th>\n",
       "      <th></th>\n",
       "      <th></th>\n",
       "      <th></th>\n",
       "    </tr>\n",
       "  </thead>\n",
       "  <tbody>\n",
       "    <tr>\n",
       "      <th>2016-01-04</th>\n",
       "      <td>2012.66</td>\n",
       "      <td>17148.94</td>\n",
       "      <td>1072.70</td>\n",
       "      <td>14.000</td>\n",
       "    </tr>\n",
       "    <tr>\n",
       "      <th>2016-01-05</th>\n",
       "      <td>2016.71</td>\n",
       "      <td>17158.66</td>\n",
       "      <td>1078.00</td>\n",
       "      <td>14.010</td>\n",
       "    </tr>\n",
       "    <tr>\n",
       "      <th>2016-01-06</th>\n",
       "      <td>1990.26</td>\n",
       "      <td>16906.51</td>\n",
       "      <td>1083.85</td>\n",
       "      <td>14.005</td>\n",
       "    </tr>\n",
       "    <tr>\n",
       "      <th>2016-01-07</th>\n",
       "      <td>1943.09</td>\n",
       "      <td>16514.10</td>\n",
       "      <td>1096.00</td>\n",
       "      <td>14.030</td>\n",
       "    </tr>\n",
       "    <tr>\n",
       "      <th>2016-01-08</th>\n",
       "      <td>1922.03</td>\n",
       "      <td>16346.45</td>\n",
       "      <td>1097.45</td>\n",
       "      <td>14.040</td>\n",
       "    </tr>\n",
       "    <tr>\n",
       "      <th>...</th>\n",
       "      <td>...</td>\n",
       "      <td>...</td>\n",
       "      <td>...</td>\n",
       "      <td>...</td>\n",
       "    </tr>\n",
       "    <tr>\n",
       "      <th>2022-04-28</th>\n",
       "      <td>4287.50</td>\n",
       "      <td>33916.39</td>\n",
       "      <td>1890.00</td>\n",
       "      <td>23.160</td>\n",
       "    </tr>\n",
       "    <tr>\n",
       "      <th>2022-04-29</th>\n",
       "      <td>4131.93</td>\n",
       "      <td>32977.21</td>\n",
       "      <td>1915.45</td>\n",
       "      <td>23.445</td>\n",
       "    </tr>\n",
       "    <tr>\n",
       "      <th>2022-05-03</th>\n",
       "      <td>4175.48</td>\n",
       "      <td>33128.79</td>\n",
       "      <td>1857.90</td>\n",
       "      <td>22.630</td>\n",
       "    </tr>\n",
       "    <tr>\n",
       "      <th>2022-05-04</th>\n",
       "      <td>4300.17</td>\n",
       "      <td>34061.06</td>\n",
       "      <td>1868.70</td>\n",
       "      <td>22.595</td>\n",
       "    </tr>\n",
       "    <tr>\n",
       "      <th>2022-05-05</th>\n",
       "      <td>4146.87</td>\n",
       "      <td>32997.97</td>\n",
       "      <td>1895.20</td>\n",
       "      <td>22.915</td>\n",
       "    </tr>\n",
       "  </tbody>\n",
       "</table>\n",
       "<p>1569 rows × 4 columns</p>\n",
       "</div>"
      ],
      "text/plain": [
       "            S&P 500  Dow Jones     Gold  Silver\n",
       "DateTime                                       \n",
       "2016-01-04  2012.66   17148.94  1072.70  14.000\n",
       "2016-01-05  2016.71   17158.66  1078.00  14.010\n",
       "2016-01-06  1990.26   16906.51  1083.85  14.005\n",
       "2016-01-07  1943.09   16514.10  1096.00  14.030\n",
       "2016-01-08  1922.03   16346.45  1097.45  14.040\n",
       "...             ...        ...      ...     ...\n",
       "2022-04-28  4287.50   33916.39  1890.00  23.160\n",
       "2022-04-29  4131.93   32977.21  1915.45  23.445\n",
       "2022-05-03  4175.48   33128.79  1857.90  22.630\n",
       "2022-05-04  4300.17   34061.06  1868.70  22.595\n",
       "2022-05-05  4146.87   32997.97  1895.20  22.915\n",
       "\n",
       "[1569 rows x 4 columns]"
      ]
     },
     "execution_count": 91,
     "metadata": {},
     "output_type": "execute_result"
    }
   ],
   "source": [
    "dft"
   ]
  },
  {
   "cell_type": "code",
   "execution_count": 92,
   "id": "20fe09b3",
   "metadata": {},
   "outputs": [
    {
     "data": {
      "text/plain": [
       "(1569, 4)"
      ]
     },
     "execution_count": 92,
     "metadata": {},
     "output_type": "execute_result"
    }
   ],
   "source": [
    "dft.shape"
   ]
  },
  {
   "cell_type": "code",
   "execution_count": 93,
   "id": "96404c13",
   "metadata": {},
   "outputs": [
    {
     "data": {
      "text/html": [
       "<div>\n",
       "<style scoped>\n",
       "    .dataframe tbody tr th:only-of-type {\n",
       "        vertical-align: middle;\n",
       "    }\n",
       "\n",
       "    .dataframe tbody tr th {\n",
       "        vertical-align: top;\n",
       "    }\n",
       "\n",
       "    .dataframe thead th {\n",
       "        text-align: right;\n",
       "    }\n",
       "</style>\n",
       "<table border=\"1\" class=\"dataframe\">\n",
       "  <thead>\n",
       "    <tr style=\"text-align: right;\">\n",
       "      <th></th>\n",
       "      <th>S&amp;P 500</th>\n",
       "      <th>Dow Jones</th>\n",
       "      <th>Gold</th>\n",
       "      <th>Silver</th>\n",
       "    </tr>\n",
       "    <tr>\n",
       "      <th>DateTime</th>\n",
       "      <th></th>\n",
       "      <th></th>\n",
       "      <th></th>\n",
       "      <th></th>\n",
       "    </tr>\n",
       "  </thead>\n",
       "  <tbody>\n",
       "    <tr>\n",
       "      <th>2016-01-04</th>\n",
       "      <td>2012.66</td>\n",
       "      <td>17148.94</td>\n",
       "      <td>1072.70</td>\n",
       "      <td>14.000</td>\n",
       "    </tr>\n",
       "    <tr>\n",
       "      <th>2016-01-05</th>\n",
       "      <td>2016.71</td>\n",
       "      <td>17158.66</td>\n",
       "      <td>1078.00</td>\n",
       "      <td>14.010</td>\n",
       "    </tr>\n",
       "    <tr>\n",
       "      <th>2016-01-06</th>\n",
       "      <td>1990.26</td>\n",
       "      <td>16906.51</td>\n",
       "      <td>1083.85</td>\n",
       "      <td>14.005</td>\n",
       "    </tr>\n",
       "    <tr>\n",
       "      <th>2016-01-07</th>\n",
       "      <td>1943.09</td>\n",
       "      <td>16514.10</td>\n",
       "      <td>1096.00</td>\n",
       "      <td>14.030</td>\n",
       "    </tr>\n",
       "    <tr>\n",
       "      <th>2016-01-08</th>\n",
       "      <td>1922.03</td>\n",
       "      <td>16346.45</td>\n",
       "      <td>1097.45</td>\n",
       "      <td>14.040</td>\n",
       "    </tr>\n",
       "  </tbody>\n",
       "</table>\n",
       "</div>"
      ],
      "text/plain": [
       "            S&P 500  Dow Jones     Gold  Silver\n",
       "DateTime                                       \n",
       "2016-01-04  2012.66   17148.94  1072.70  14.000\n",
       "2016-01-05  2016.71   17158.66  1078.00  14.010\n",
       "2016-01-06  1990.26   16906.51  1083.85  14.005\n",
       "2016-01-07  1943.09   16514.10  1096.00  14.030\n",
       "2016-01-08  1922.03   16346.45  1097.45  14.040"
      ]
     },
     "execution_count": 93,
     "metadata": {},
     "output_type": "execute_result"
    }
   ],
   "source": [
    "dft.head()"
   ]
  },
  {
   "cell_type": "code",
   "execution_count": 94,
   "id": "9224d68c",
   "metadata": {},
   "outputs": [],
   "source": [
    "dftt=dft.dropna()"
   ]
  },
  {
   "cell_type": "code",
   "execution_count": 95,
   "id": "8a1484cc",
   "metadata": {},
   "outputs": [
    {
     "data": {
      "image/png": "[encoded data removed]",
      "text/plain": [
       "<Figure size 1200x720 with 4 Axes>"
      ]
     },
     "metadata": {},
     "output_type": "display_data"
    }
   ],
   "source": [
    "fig, axes = plt.subplots(nrows=2, ncols=2, dpi=120, figsize=(10,6))\n",
    "for i, ax in enumerate(axes.flatten()):\n",
    "    data = dftt[dftt.columns[i]]\n",
    "    ax.plot(data, color='red', linewidth=1)\n",
    "    # Decorations\n",
    "    ax.set_title(dftt.columns[i])\n",
    "    ax.xaxis.set_ticks_position('none')\n",
    "    ax.yaxis.set_ticks_position('none')\n",
    "    ax.spines[\"top\"].set_alpha(0)\n",
    "    ax.tick_params(labelsize=2)\n",
    "\n",
    "plt.tight_layout();"
   ]
  },
  {
   "cell_type": "code",
   "execution_count": 96,
   "id": "125425d4",
   "metadata": {},
   "outputs": [
    {
     "name": "stdout",
     "output_type": "stream",
     "text": [
      "realS&P 500\n",
      "ADF Statistic: -10.682057915323593\n",
      "p-value: 3.9174164695528884e-19\n",
      "\n",
      "---------------------\n",
      "\n",
      "realDow Jones\n",
      "ADF Statistic: -11.134224130157568\n",
      "p-value: 3.225321891621518e-20\n",
      "realSilver\n",
      "ADF Statistic: -11.134224130157568\n",
      "p-value: 3.225321891621518e-20\n",
      "realGold\n",
      "ADF Statistic: -11.134224130157568\n",
      "p-value: 3.225321891621518e-20\n"
     ]
    }
   ],
   "source": [
    "ad_fuller_result_1 = adfuller(dftt['S&P 500'].diff()[1:])\n",
    "\n",
    "print('realS&P 500')\n",
    "print(f'ADF Statistic: {ad_fuller_result_1[0]}')\n",
    "print(f'p-value: {ad_fuller_result_1[1]}')\n",
    "\n",
    "print('\\n---------------------\\n')\n",
    "\n",
    "ad_fuller_result_2 = adfuller(dftt['Dow Jones'].diff()[1:])\n",
    "\n",
    "print('realDow Jones')\n",
    "print(f'ADF Statistic: {ad_fuller_result_2[0]}')\n",
    "print(f'p-value: {ad_fuller_result_2[1]}')\n",
    "ad_fuller_result_2 = adfuller(dftt['Dow Jones'].diff()[1:])\n",
    "\n",
    "ad_fuller_result_3 = adfuller(dftt['Silver'].diff()[1:])\n",
    "\n",
    "print('realSilver')\n",
    "print(f'ADF Statistic: {ad_fuller_result_2[0]}')\n",
    "print(f'p-value: {ad_fuller_result_2[1]}')\n",
    "ad_fuller_result_3 = adfuller(dftt['Silver'].diff()[1:])\n",
    "\n",
    "ad_fuller_result_4 = adfuller(dftt['Gold'].diff()[1:])\n",
    "\n",
    "print('realGold')\n",
    "print(f'ADF Statistic: {ad_fuller_result_2[0]}')\n",
    "print(f'p-value: {ad_fuller_result_2[1]}')\n",
    "ad_fuller_result_4 = adfuller(dftt['Gold'].diff()[1:])\n",
    "\n"
   ]
  },
  {
   "cell_type": "code",
   "execution_count": 27,
   "id": "e9c3094b",
   "metadata": {},
   "outputs": [
    {
     "name": "stdout",
     "output_type": "stream",
     "text": [
      "S&P 500 causes Dow Jones\n",
      "\n",
      "------------------\n",
      "\n",
      "Granger Causality\n",
      "number of lags (no zero) 1\n",
      "ssr based F test:         F=1.2204  , p=0.2695  , df_denom=1565, df_num=1\n",
      "ssr based chi2 test:   chi2=1.2227  , p=0.2688  , df=1\n",
      "likelihood ratio test: chi2=1.2223  , p=0.2689  , df=1\n",
      "parameter F test:         F=1.2204  , p=0.2695  , df_denom=1565, df_num=1\n",
      "\n",
      "Granger Causality\n",
      "number of lags (no zero) 2\n",
      "ssr based F test:         F=0.4977  , p=0.6080  , df_denom=1562, df_num=2\n",
      "ssr based chi2 test:   chi2=0.9987  , p=0.6069  , df=2\n",
      "likelihood ratio test: chi2=0.9984  , p=0.6070  , df=2\n",
      "parameter F test:         F=0.4977  , p=0.6080  , df_denom=1562, df_num=2\n",
      "\n",
      "Granger Causality\n",
      "number of lags (no zero) 3\n",
      "ssr based F test:         F=1.3073  , p=0.2704  , df_denom=1559, df_num=3\n",
      "ssr based chi2 test:   chi2=3.9396  , p=0.2681  , df=3\n",
      "likelihood ratio test: chi2=3.9346  , p=0.2686  , df=3\n",
      "parameter F test:         F=1.3073  , p=0.2704  , df_denom=1559, df_num=3\n",
      "\n",
      "Granger Causality\n",
      "number of lags (no zero) 4\n",
      "ssr based F test:         F=1.0728  , p=0.3684  , df_denom=1556, df_num=4\n",
      "ssr based chi2 test:   chi2=4.3160  , p=0.3649  , df=4\n",
      "likelihood ratio test: chi2=4.3100  , p=0.3657  , df=4\n",
      "parameter F test:         F=1.0728  , p=0.3684  , df_denom=1556, df_num=4\n",
      "Dow Jones causes S&P 500?\n",
      "\n",
      "------------------\n",
      "\n",
      "Granger Causality\n",
      "number of lags (no zero) 1\n",
      "ssr based F test:         F=0.5748  , p=0.4485  , df_denom=1565, df_num=1\n",
      "ssr based chi2 test:   chi2=0.5759  , p=0.4479  , df=1\n",
      "likelihood ratio test: chi2=0.5758  , p=0.4480  , df=1\n",
      "parameter F test:         F=0.5748  , p=0.4485  , df_denom=1565, df_num=1\n",
      "\n",
      "Granger Causality\n",
      "number of lags (no zero) 2\n",
      "ssr based F test:         F=1.6540  , p=0.1916  , df_denom=1562, df_num=2\n",
      "ssr based chi2 test:   chi2=3.3186  , p=0.1903  , df=2\n",
      "likelihood ratio test: chi2=3.3151  , p=0.1906  , df=2\n",
      "parameter F test:         F=1.6540  , p=0.1916  , df_denom=1562, df_num=2\n",
      "\n",
      "Granger Causality\n",
      "number of lags (no zero) 3\n",
      "ssr based F test:         F=3.6051  , p=0.0130  , df_denom=1559, df_num=3\n",
      "ssr based chi2 test:   chi2=10.8639 , p=0.0125  , df=3\n",
      "likelihood ratio test: chi2=10.8264 , p=0.0127  , df=3\n",
      "parameter F test:         F=3.6051  , p=0.0130  , df_denom=1559, df_num=3\n",
      "\n",
      "Granger Causality\n",
      "number of lags (no zero) 4\n",
      "ssr based F test:         F=2.7720  , p=0.0259  , df_denom=1556, df_num=4\n",
      "ssr based chi2 test:   chi2=11.1521 , p=0.0249  , df=4\n",
      "likelihood ratio test: chi2=11.1125 , p=0.0253  , df=4\n",
      "parameter F test:         F=2.7720  , p=0.0259  , df_denom=1556, df_num=4\n"
     ]
    }
   ],
   "source": [
    "print('S&P 500 causes Dow Jones\\n')\n",
    "print('------------------')\n",
    "granger_1 = grangercausalitytests(dftt[['Dow Jones', 'S&P 500']], 4)\n",
    "\n",
    "print('Dow Jones causes S&P 500?\\n')\n",
    "print('------------------')\n",
    "granger_2 = grangercausalitytests(dftt[['S&P 500', 'Dow Jones']], 4)"
   ]
  },
  {
   "cell_type": "code",
   "execution_count": 97,
   "id": "6413aa11",
   "metadata": {},
   "outputs": [
    {
     "name": "stdout",
     "output_type": "stream",
     "text": [
      "Gold causes Silver?\n",
      "\n",
      "------------------\n",
      "\n",
      "Granger Causality\n",
      "number of lags (no zero) 1\n",
      "ssr based F test:         F=7.4909  , p=0.0063  , df_denom=1565, df_num=1\n",
      "ssr based chi2 test:   chi2=7.5053  , p=0.0062  , df=1\n",
      "likelihood ratio test: chi2=7.4874  , p=0.0062  , df=1\n",
      "parameter F test:         F=7.4909  , p=0.0063  , df_denom=1565, df_num=1\n",
      "\n",
      "Granger Causality\n",
      "number of lags (no zero) 2\n",
      "ssr based F test:         F=4.1782  , p=0.0155  , df_denom=1562, df_num=2\n",
      "ssr based chi2 test:   chi2=8.3832  , p=0.0151  , df=2\n",
      "likelihood ratio test: chi2=8.3609  , p=0.0153  , df=2\n",
      "parameter F test:         F=4.1782  , p=0.0155  , df_denom=1562, df_num=2\n",
      "\n",
      "Granger Causality\n",
      "number of lags (no zero) 3\n",
      "ssr based F test:         F=3.0742  , p=0.0268  , df_denom=1559, df_num=3\n",
      "ssr based chi2 test:   chi2=9.2641  , p=0.0260  , df=3\n",
      "likelihood ratio test: chi2=9.2368  , p=0.0263  , df=3\n",
      "parameter F test:         F=3.0742  , p=0.0268  , df_denom=1559, df_num=3\n",
      "\n",
      "Granger Causality\n",
      "number of lags (no zero) 4\n",
      "ssr based F test:         F=2.5510  , p=0.0375  , df_denom=1556, df_num=4\n",
      "ssr based chi2 test:   chi2=10.2631 , p=0.0362  , df=4\n",
      "likelihood ratio test: chi2=10.2296 , p=0.0367  , df=4\n",
      "parameter F test:         F=2.5510  , p=0.0375  , df_denom=1556, df_num=4\n",
      "\\Silver causes Gold?\n",
      "\n",
      "------------------\n",
      "\n",
      "Granger Causality\n",
      "number of lags (no zero) 1\n",
      "ssr based F test:         F=9.6583  , p=0.0019  , df_denom=1565, df_num=1\n",
      "ssr based chi2 test:   chi2=9.6768  , p=0.0019  , df=1\n",
      "likelihood ratio test: chi2=9.6471  , p=0.0019  , df=1\n",
      "parameter F test:         F=9.6583  , p=0.0019  , df_denom=1565, df_num=1\n",
      "\n",
      "Granger Causality\n",
      "number of lags (no zero) 2\n",
      "ssr based F test:         F=11.5485 , p=0.0000  , df_denom=1562, df_num=2\n",
      "ssr based chi2 test:   chi2=23.1709 , p=0.0000  , df=2\n",
      "likelihood ratio test: chi2=23.0012 , p=0.0000  , df=2\n",
      "parameter F test:         F=11.5485 , p=0.0000  , df_denom=1562, df_num=2\n",
      "\n",
      "Granger Causality\n",
      "number of lags (no zero) 3\n",
      "ssr based F test:         F=7.8488  , p=0.0000  , df_denom=1559, df_num=3\n",
      "ssr based chi2 test:   chi2=23.6520 , p=0.0000  , df=3\n",
      "likelihood ratio test: chi2=23.4752 , p=0.0000  , df=3\n",
      "parameter F test:         F=7.8488  , p=0.0000  , df_denom=1559, df_num=3\n",
      "\n",
      "Granger Causality\n",
      "number of lags (no zero) 4\n",
      "ssr based F test:         F=6.2165  , p=0.0001  , df_denom=1556, df_num=4\n",
      "ssr based chi2 test:   chi2=25.0099 , p=0.0001  , df=4\n",
      "likelihood ratio test: chi2=24.8122 , p=0.0001  , df=4\n",
      "parameter F test:         F=6.2165  , p=0.0001  , df_denom=1556, df_num=4\n"
     ]
    }
   ],
   "source": [
    "print('Gold causes Silver?\\n')\n",
    "print('------------------')\n",
    "granger_1 = grangercausalitytests(dftt[['Silver', 'Gold']], 4)\n",
    "\n",
    "print('\\Silver causes Gold?\\n')\n",
    "print('------------------')\n",
    "granger_2 = grangercausalitytests(dftt[['Gold', 'Silver']], 4)"
   ]
  },
  {
   "cell_type": "code",
   "execution_count": 98,
   "id": "e24e8245",
   "metadata": {},
   "outputs": [
    {
     "name": "stdout",
     "output_type": "stream",
     "text": [
      "(1569, 4)\n"
     ]
    }
   ],
   "source": [
    "dftt = dftt[['S&P 500','Dow Jones','Gold','Silver']]\n",
    "print(dftt.shape)"
   ]
  },
  {
   "cell_type": "code",
   "execution_count": 99,
   "id": "73194c5a",
   "metadata": {},
   "outputs": [],
   "source": [
    "train_df=dftt[:-12]\n",
    "test_df=dftt[-12:]"
   ]
  },
  {
   "cell_type": "code",
   "execution_count": 100,
   "id": "d1ab26b5",
   "metadata": {},
   "outputs": [
    {
     "name": "stdout",
     "output_type": "stream",
     "text": [
      "(12, 4)\n"
     ]
    }
   ],
   "source": [
    "print(test_df.shape)"
   ]
  },
  {
   "cell_type": "code",
   "execution_count": 101,
   "id": "aeaed777",
   "metadata": {},
   "outputs": [],
   "source": [
    "model = VAR(train_df.diff()[1:])"
   ]
  },
  {
   "cell_type": "code",
   "execution_count": 102,
   "id": "1106bcaf",
   "metadata": {},
   "outputs": [
    {
     "name": "stdout",
     "output_type": "stream",
     "text": [
      " VAR Order Selection (* highlights the minimums)  \n",
      "==================================================\n",
      "       AIC         BIC         FPE         HQIC   \n",
      "--------------------------------------------------\n",
      "0        18.52      18.53*   1.102e+08       18.52\n",
      "1        18.47       18.53   1.046e+08      18.49*\n",
      "2        18.46       18.58   1.039e+08       18.51\n",
      "3        18.46       18.64   1.040e+08       18.53\n",
      "4        18.46       18.70   1.044e+08       18.55\n",
      "5        18.46       18.76   1.043e+08       18.57\n",
      "6        18.45       18.80   1.034e+08       18.58\n",
      "7        18.44       18.85   1.023e+08       18.59\n",
      "8        18.44       18.90   1.019e+08       18.61\n",
      "9       18.43*       18.94  1.005e+08*       18.62\n",
      "10       18.43       19.00   1.009e+08       18.64\n",
      "11       18.44       19.06   1.016e+08       18.67\n",
      "12       18.45       19.13   1.032e+08       18.71\n",
      "13       18.45       19.19   1.033e+08       18.73\n",
      "14       18.47       19.26   1.046e+08       18.76\n",
      "15       18.47       19.31   1.047e+08       18.78\n",
      "16       18.48       19.38   1.059e+08       18.81\n",
      "17       18.47       19.43   1.053e+08       18.83\n",
      "18       18.47       19.49   1.054e+08       18.85\n",
      "19       18.48       19.55   1.057e+08       18.87\n",
      "20       18.48       19.60   1.057e+08       18.89\n",
      "--------------------------------------------------\n"
     ]
    }
   ],
   "source": [
    "sorted_order=model.select_order(maxlags=20)\n",
    "print(sorted_order.summary())"
   ]
  },
  {
   "cell_type": "code",
   "execution_count": 103,
   "id": "805fbb2d",
   "metadata": {
    "scrolled": false
   },
   "outputs": [
    {
     "name": "stdout",
     "output_type": "stream",
     "text": [
      "                                       Statespace Model Results                                       \n",
      "======================================================================================================\n",
      "Dep. Variable:     ['S&P 500', 'Dow Jones', 'Gold', 'Silver']   No. Observations:                 1557\n",
      "Model:                                                 VAR(4)   Log Likelihood              -23130.868\n",
      "                                                  + intercept   AIC                          46417.736\n",
      "Date:                                        Wed, 15 Jun 2022   BIC                          46835.076\n",
      "Time:                                                16:35:56   HQIC                         46572.920\n",
      "Sample:                                                     0                                         \n",
      "                                                       - 1557                                         \n",
      "Covariance Type:                                          opg                                         \n",
      "=======================================================================================================\n",
      "Ljung-Box (L1) (Q):     0.01, 0.00, 0.00, 0.00   Jarque-Bera (JB):   6891.88, 766.77, 1695.41, 17550.27\n",
      "Prob(Q):                0.93, 0.96, 0.99, 1.00   Prob(JB):                       0.00, 0.00, 0.00, 0.00\n",
      "Heteroskedasticity (H): 8.96, 9.93, 3.05, 3.89   Skew:                          -1.02, 0.47, 0.11, 0.64\n",
      "Prob(H) (two-sided):    0.00, 0.00, 0.00, 0.00   Kurtosis:                     13.11, 6.31, 8.11, 19.40\n",
      "                          Results for equation S&P 500                          \n",
      "================================================================================\n",
      "                   coef    std err          z      P>|z|      [0.025      0.975]\n",
      "--------------------------------------------------------------------------------\n",
      "intercept       -6.7284      0.017   -398.029      0.000      -6.761      -6.695\n",
      "L1.S&P 500       1.0117      0.076     13.385      0.000       0.864       1.160\n",
      "L1.Dow Jones    -0.0180      0.009     -2.115      0.034      -0.035      -0.001\n",
      "L1.Gold         -0.0581      0.062     -0.941      0.347      -0.179       0.063\n",
      "L1.Silver        2.0573      1.171      1.757      0.079      -0.238       4.353\n",
      "L2.S&P 500      -0.1305      0.099     -1.324      0.185      -0.324       0.063\n",
      "L2.Dow Jones     0.0423      0.011      3.746      0.000       0.020       0.064\n",
      "L2.Gold          0.2786      0.090      3.085      0.002       0.102       0.456\n",
      "L2.Silver       -2.8046      1.481     -1.894      0.058      -5.707       0.098\n",
      "L3.S&P 500       0.0409      0.101      0.406      0.685      -0.156       0.238\n",
      "L3.Dow Jones    -0.0133      0.012     -1.152      0.249      -0.036       0.009\n",
      "L3.Gold         -0.5256      0.086     -6.136      0.000      -0.694      -0.358\n",
      "L3.Silver        3.7606      1.466      2.566      0.010       0.888       6.633\n",
      "L4.S&P 500       0.0742      0.077      0.967      0.333      -0.076       0.225\n",
      "L4.Dow Jones    -0.0110      0.009     -1.241      0.214      -0.028       0.006\n",
      "L4.Gold          0.3201      0.065      4.950      0.000       0.193       0.447\n",
      "L4.Silver       -3.1775      1.212     -2.623      0.009      -5.552      -0.803\n",
      "                         Results for equation Dow Jones                         \n",
      "================================================================================\n",
      "                   coef    std err          z      P>|z|      [0.025      0.975]\n",
      "--------------------------------------------------------------------------------\n",
      "intercept        6.5506        nan        nan        nan         nan         nan\n",
      "L1.S&P 500       0.4762      0.683      0.698      0.485      -0.862       1.814\n",
      "L1.Dow Jones     0.8120      0.075     10.813      0.000       0.665       0.959\n",
      "L1.Gold          0.1038      0.461      0.225      0.822      -0.800       1.008\n",
      "L1.Silver       10.7381      0.717     14.974      0.000       9.333      12.144\n",
      "L2.S&P 500      -1.3223      0.906     -1.459      0.145      -3.099       0.454\n",
      "L2.Dow Jones     0.3870      0.102      3.802      0.000       0.187       0.587\n",
      "L2.Gold          1.4850      0.706      2.105      0.035       0.102       2.868\n",
      "L2.Silver       -3.5093      0.747     -4.699      0.000      -4.973      -2.046\n",
      "L3.S&P 500       0.5279      0.918      0.575      0.565      -1.272       2.328\n",
      "L3.Dow Jones    -0.1521      0.102     -1.491      0.136      -0.352       0.048\n",
      "L3.Gold         -4.1947      0.656     -6.393      0.000      -5.481      -2.909\n",
      "L3.Silver       31.0114      0.741     41.844      0.000      29.559      32.464\n",
      "L4.S&P 500       0.3347      0.693      0.483      0.629      -1.023       1.692\n",
      "L4.Dow Jones    -0.0532      0.078     -0.683      0.494      -0.206       0.099\n",
      "L4.Gold          2.6854      0.476      5.639      0.000       1.752       3.619\n",
      "L4.Silver      -39.1206      0.725    -53.933      0.000     -40.542     -37.699\n",
      "                           Results for equation Gold                            \n",
      "================================================================================\n",
      "                   coef    std err          z      P>|z|      [0.025      0.975]\n",
      "--------------------------------------------------------------------------------\n",
      "intercept        8.5130      0.235     36.298      0.000       8.053       8.973\n",
      "L1.S&P 500       0.0909      0.028      3.273      0.001       0.036       0.145\n",
      "L1.Dow Jones    -0.0110      0.003     -3.468      0.001      -0.017      -0.005\n",
      "L1.Gold          0.9482      0.027     34.750      0.000       0.895       1.002\n",
      "L1.Silver        4.7863      0.759      6.304      0.000       3.298       6.274\n",
      "L2.S&P 500      -0.0902      0.039     -2.334      0.020      -0.166      -0.014\n",
      "L2.Dow Jones     0.0124      0.004      2.763      0.006       0.004       0.021\n",
      "L2.Gold          0.0556      0.035      1.597      0.110      -0.013       0.124\n",
      "L2.Silver       -5.1430      0.437    -11.762      0.000      -6.000      -4.286\n",
      "L3.S&P 500      -0.0440      0.039     -1.120      0.263      -0.121       0.033\n",
      "L3.Dow Jones     0.0052      0.005      1.150      0.250      -0.004       0.014\n",
      "L3.Gold         -0.0530      0.035     -1.525      0.127      -0.121       0.015\n",
      "L3.Silver        0.6833      0.395      1.731      0.083      -0.090       1.457\n",
      "L4.S&P 500       0.0519      0.030      1.712      0.087      -0.008       0.111\n",
      "L4.Dow Jones    -0.0075      0.004     -2.119      0.034      -0.014      -0.001\n",
      "L4.Gold          0.0519      0.028      1.840      0.066      -0.003       0.107\n",
      "L4.Silver       -1.1527      0.753     -1.531      0.126      -2.628       0.323\n",
      "                          Results for equation Silver                           \n",
      "================================================================================\n",
      "                   coef    std err          z      P>|z|      [0.025      0.975]\n",
      "--------------------------------------------------------------------------------\n",
      "intercept        0.1089      0.055      1.983      0.047       0.001       0.217\n",
      "L1.S&P 500       0.0015      0.001      2.127      0.033       0.000       0.003\n",
      "L1.Dow Jones -9.204e-05   8.97e-05     -1.026      0.305      -0.000    8.37e-05\n",
      "L1.Gold          0.0014      0.001      1.934      0.053   -1.89e-05       0.003\n",
      "L1.Silver        0.9620      0.018     53.484      0.000       0.927       0.997\n",
      "L2.S&P 500      -0.0014      0.001     -1.397      0.162      -0.003       0.001\n",
      "L2.Dow Jones     0.0002      0.000      1.302      0.193   -8.37e-05       0.000\n",
      "L2.Gold          0.0003      0.001      0.219      0.827      -0.002       0.003\n",
      "L2.Silver       -0.0105      0.026     -0.407      0.684      -0.061       0.040\n",
      "L3.S&P 500      -0.0016      0.001     -1.684      0.092      -0.003       0.000\n",
      "L3.Dow Jones     0.0001      0.000      0.939      0.348      -0.000       0.000\n",
      "L3.Gold         -0.0026      0.001     -2.227      0.026      -0.005      -0.000\n",
      "L3.Silver        0.0247      0.030      0.814      0.415      -0.035       0.084\n",
      "L4.S&P 500       0.0016      0.001      2.165      0.030       0.000       0.003\n",
      "L4.Dow Jones    -0.0002   8.83e-05     -2.299      0.022      -0.000   -2.99e-05\n",
      "L4.Gold          0.0011      0.001      1.107      0.268      -0.001       0.003\n",
      "L4.Silver        0.0061      0.028      0.220      0.826      -0.048       0.060\n",
      "                                   Error covariance matrix                                    \n",
      "==============================================================================================\n",
      "                                 coef    std err          z      P>|z|      [0.025      0.975]\n",
      "----------------------------------------------------------------------------------------------\n",
      "sqrt.var.S&P 500              34.2249      0.207    165.153      0.000      33.819      34.631\n",
      "sqrt.cov.S&P 500.Dow Jones   277.4827      0.253   1096.037      0.000     276.986     277.979\n",
      "sqrt.var.Dow Jones            91.6642      1.239     73.993      0.000      89.236      94.092\n",
      "sqrt.cov.S&P 500.Gold          0.6864      0.262      2.619      0.009       0.173       1.200\n",
      "sqrt.cov.Dow Jones.Gold        0.2548      0.263      0.967      0.333      -0.261       0.771\n",
      "sqrt.var.Gold                 13.4517      0.182     73.946      0.000      13.095      13.808\n",
      "sqrt.cov.S&P 500.Silver        0.0368      0.009      4.145      0.000       0.019       0.054\n",
      "sqrt.cov.Dow Jones.Silver      0.0069      0.007      0.946      0.344      -0.007       0.021\n",
      "sqrt.cov.Gold.Silver           0.2538      0.006     40.089      0.000       0.241       0.266\n",
      "sqrt.var.Silver                0.2316      0.002    102.896      0.000       0.227       0.236\n",
      "==============================================================================================\n",
      "\n",
      "Warnings:\n",
      "[1] Covariance matrix calculated using the outer product of gradients (complex-step).\n",
      "[2] Covariance matrix is singular or near-singular, with condition number 2.04e+18. Standard errors may be unstable.\n"
     ]
    }
   ],
   "source": [
    "var_model = VARMAX(train_df, order=(4,0),enforce_stationarity= True)\n",
    "fitted_model = var_model.fit(disp=False)\n",
    "print(fitted_model.summary())"
   ]
  },
  {
   "cell_type": "code",
   "execution_count": 104,
   "id": "6914be0e",
   "metadata": {},
   "outputs": [],
   "source": [
    "n_forecast = 12\n",
    "predict = fitted_model.get_prediction(start=len(train_df),end=len(train_df) + n_forecast-1)#start=\"1989-07-01\",end='1999-01-01')\n",
    "\n",
    "predictions=predict.predicted_mean"
   ]
  },
  {
   "cell_type": "code",
   "execution_count": 105,
   "id": "d4f9af52",
   "metadata": {},
   "outputs": [
    {
     "data": {
      "text/html": [
       "<div>\n",
       "<style scoped>\n",
       "    .dataframe tbody tr th:only-of-type {\n",
       "        vertical-align: middle;\n",
       "    }\n",
       "\n",
       "    .dataframe tbody tr th {\n",
       "        vertical-align: top;\n",
       "    }\n",
       "\n",
       "    .dataframe thead th {\n",
       "        text-align: right;\n",
       "    }\n",
       "</style>\n",
       "<table border=\"1\" class=\"dataframe\">\n",
       "  <thead>\n",
       "    <tr style=\"text-align: right;\">\n",
       "      <th></th>\n",
       "      <th>S&amp;P 500_predicted</th>\n",
       "      <th>Dow Jones_predicted</th>\n",
       "      <th>Gold_predicted</th>\n",
       "      <th>Silver_predicted</th>\n",
       "    </tr>\n",
       "  </thead>\n",
       "  <tbody>\n",
       "    <tr>\n",
       "      <th>1557</th>\n",
       "      <td>4404.351165</td>\n",
       "      <td>34530.501274</td>\n",
       "      <td>1969.126134</td>\n",
       "      <td>25.660995</td>\n",
       "    </tr>\n",
       "    <tr>\n",
       "      <th>1558</th>\n",
       "      <td>4401.369283</td>\n",
       "      <td>34500.930865</td>\n",
       "      <td>1969.533836</td>\n",
       "      <td>25.634316</td>\n",
       "    </tr>\n",
       "    <tr>\n",
       "      <th>1559</th>\n",
       "      <td>4407.470444</td>\n",
       "      <td>34534.235937</td>\n",
       "      <td>1972.184588</td>\n",
       "      <td>25.727710</td>\n",
       "    </tr>\n",
       "    <tr>\n",
       "      <th>1560</th>\n",
       "      <td>4408.337820</td>\n",
       "      <td>34534.058203</td>\n",
       "      <td>1973.159581</td>\n",
       "      <td>25.752159</td>\n",
       "    </tr>\n",
       "    <tr>\n",
       "      <th>1561</th>\n",
       "      <td>4409.766678</td>\n",
       "      <td>34539.038631</td>\n",
       "      <td>1973.683069</td>\n",
       "      <td>25.776138</td>\n",
       "    </tr>\n",
       "    <tr>\n",
       "      <th>1562</th>\n",
       "      <td>4410.307496</td>\n",
       "      <td>34536.866194</td>\n",
       "      <td>1974.163571</td>\n",
       "      <td>25.791381</td>\n",
       "    </tr>\n",
       "    <tr>\n",
       "      <th>1563</th>\n",
       "      <td>4411.255141</td>\n",
       "      <td>34537.194621</td>\n",
       "      <td>1974.627912</td>\n",
       "      <td>25.809634</td>\n",
       "    </tr>\n",
       "    <tr>\n",
       "      <th>1564</th>\n",
       "      <td>4412.255163</td>\n",
       "      <td>34537.767049</td>\n",
       "      <td>1975.131291</td>\n",
       "      <td>25.828271</td>\n",
       "    </tr>\n",
       "    <tr>\n",
       "      <th>1565</th>\n",
       "      <td>4413.232429</td>\n",
       "      <td>34538.214349</td>\n",
       "      <td>1975.619260</td>\n",
       "      <td>25.847089</td>\n",
       "    </tr>\n",
       "    <tr>\n",
       "      <th>1566</th>\n",
       "      <td>4414.233406</td>\n",
       "      <td>34538.936110</td>\n",
       "      <td>1976.104394</td>\n",
       "      <td>25.865667</td>\n",
       "    </tr>\n",
       "    <tr>\n",
       "      <th>1567</th>\n",
       "      <td>4415.213767</td>\n",
       "      <td>34539.528176</td>\n",
       "      <td>1976.578887</td>\n",
       "      <td>25.884033</td>\n",
       "    </tr>\n",
       "    <tr>\n",
       "      <th>1568</th>\n",
       "      <td>4416.206155</td>\n",
       "      <td>34540.244786</td>\n",
       "      <td>1977.047927</td>\n",
       "      <td>25.902318</td>\n",
       "    </tr>\n",
       "  </tbody>\n",
       "</table>\n",
       "</div>"
      ],
      "text/plain": [
       "      S&P 500_predicted  Dow Jones_predicted  Gold_predicted  Silver_predicted\n",
       "1557        4404.351165         34530.501274     1969.126134         25.660995\n",
       "1558        4401.369283         34500.930865     1969.533836         25.634316\n",
       "1559        4407.470444         34534.235937     1972.184588         25.727710\n",
       "1560        4408.337820         34534.058203     1973.159581         25.752159\n",
       "1561        4409.766678         34539.038631     1973.683069         25.776138\n",
       "1562        4410.307496         34536.866194     1974.163571         25.791381\n",
       "1563        4411.255141         34537.194621     1974.627912         25.809634\n",
       "1564        4412.255163         34537.767049     1975.131291         25.828271\n",
       "1565        4413.232429         34538.214349     1975.619260         25.847089\n",
       "1566        4414.233406         34538.936110     1976.104394         25.865667\n",
       "1567        4415.213767         34539.528176     1976.578887         25.884033\n",
       "1568        4416.206155         34540.244786     1977.047927         25.902318"
      ]
     },
     "execution_count": 105,
     "metadata": {},
     "output_type": "execute_result"
    }
   ],
   "source": [
    "predictions.columns=['S&P 500_predicted','Dow Jones_predicted','Gold_predicted','Silver_predicted']\n",
    "predictions"
   ]
  },
  {
   "cell_type": "code",
   "execution_count": 106,
   "id": "27874b57",
   "metadata": {},
   "outputs": [],
   "source": [
    "test_vs_pred=pd.concat([test_df,predictions],axis=1)"
   ]
  },
  {
   "cell_type": "code",
   "execution_count": 107,
   "id": "03c8e281",
   "metadata": {},
   "outputs": [
    {
     "data": {
      "text/plain": [
       "<AxesSubplot:>"
      ]
     },
     "execution_count": 107,
     "metadata": {},
     "output_type": "execute_result"
    },
    {
     "data": {
      "image/png": "[encoded data removed]",
      "text/plain": [
       "<Figure size 864x360 with 1 Axes>"
      ]
     },
     "metadata": {},
     "output_type": "display_data"
    }
   ],
   "source": [
    "test_vs_pred.plot(figsize=(12,5))"
   ]
  },
  {
   "cell_type": "code",
   "execution_count": 108,
   "id": "bfa74995",
   "metadata": {},
   "outputs": [
    {
     "name": "stdout",
     "output_type": "stream",
     "text": [
      "Mean value of S&P 500 is : 4273.694166666666. Root Mean Squared Error is :178.62649416853426\n",
      "Mean value of DowJOnes is : 33862.42833333333. Root Mean Squared Error is :1001.4687360699855\n",
      "Mean value of Gold is : 1913.0791666666667. Root Mean Squared Error is :70.44816263025456\n",
      "Mean value of Silver is : 23.814166666666665. Root Mean Squared Error is :2.2441463633925625\n"
     ]
    }
   ],
   "source": [
    "from sklearn.metrics import mean_squared_error\n",
    "import math \n",
    "from statistics import mean\n",
    "\n",
    "rmse_SP =math.sqrt(mean_squared_error(predictions['S&P 500_predicted'],test_df['S&P 500']))\n",
    "print('Mean value of S&P 500 is : {}. Root Mean Squared Error is :{}'.format(mean(test_df['S&P 500']),rmse_SP))\n",
    "\n",
    "rmse_DJ=math.sqrt(mean_squared_error(predictions['Dow Jones_predicted'],test_df['Dow Jones']))\n",
    "print('Mean value of DowJOnes is : {}. Root Mean Squared Error is :{}'.format(mean(test_df['Dow Jones']),rmse_DJ))\n",
    "\n",
    "rmse_Gold=math.sqrt(mean_squared_error(predictions['Gold_predicted'],test_df['Gold']))\n",
    "print('Mean value of Gold is : {}. Root Mean Squared Error is :{}'.format(mean(test_df['Gold']),rmse_Gold))\n",
    "\n",
    "rmse_Silver=math.sqrt(mean_squared_error(predictions['Silver_predicted'],test_df['Silver']))\n",
    "print('Mean value of Silver is : {}. Root Mean Squared Error is :{}'.format(mean(test_df['Silver']),rmse_Silver))"
   ]
  },
  {
   "cell_type": "code",
   "execution_count": null,
   "id": "514813ff",
   "metadata": {},
   "outputs": [],
   "source": []
  }
 ],
 "metadata": {
  "kernelspec": {
   "display_name": "Python 3 (ipykernel)",
   "language": "python",
   "name": "python3"
  },
  "language_info": {
   "codemirror_mode": {
    "name": "ipython",
    "version": 3
   },
   "file_extension": ".py",
   "mimetype": "text/x-python",
   "name": "python",
   "nbconvert_exporter": "python",
   "pygments_lexer": "ipython3",
   "version": "3.9.7"
  }
 },
 "nbformat": 4,
 "nbformat_minor": 5
}
